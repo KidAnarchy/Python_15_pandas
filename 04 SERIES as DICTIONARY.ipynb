{
 "cells": [
  {
   "cell_type": "markdown",
   "metadata": {},
   "source": [
    "# SERIES as DICTIONARY\n",
    "\n",
    "Import all libraries\n",
    "\n",
    "PANDAS SERIES OBJECT\n",
    "\n",
    "CONSTRUCTING SERIES OBJECTS\n",
    "\n",
    "PANDAS DATAFRAME OBJECT\n",
    "\n",
    "SERIES as DICTIONARY\n",
    "\n",
    "DATAFRAME as DICTIONARY\n",
    "\n",
    "Index Alignment Series\n"
   ]
  },
  {
   "cell_type": "markdown",
   "metadata": {
    "id": "1qj56KEp8ozq"
   },
   "source": [
    "# import all libraries"
   ]
  },
  {
   "cell_type": "code",
   "execution_count": 1,
   "metadata": {
    "id": "y-WKr9Sd8buA"
   },
   "outputs": [],
   "source": [
    "import numpy as np \n",
    "import pandas as pd"
   ]
  },
  {
   "cell_type": "markdown",
   "metadata": {
    "id": "CXyvDp918heq"
   },
   "source": [
    "Check the version of your PANDAS"
   ]
  },
  {
   "cell_type": "code",
   "execution_count": 2,
   "metadata": {
    "id": "UHnDaDgt8dav"
   },
   "outputs": [
    {
     "data": {
      "text/plain": [
       "'1.1.3'"
      ]
     },
     "execution_count": 2,
     "metadata": {},
     "output_type": "execute_result"
    }
   ],
   "source": [
    "pd.__version__"
   ]
  },
  {
   "cell_type": "markdown",
   "metadata": {
    "id": "xS5mV6x_ED0Q"
   },
   "source": [
    "## **SERIES as DICTIONARY**"
   ]
  },
  {
   "cell_type": "markdown",
   "metadata": {
    "id": "GR1jxtB8ENu8"
   },
   "source": [
    "![image.png](data:image/png;base64,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)"
   ]
  },
  {
   "cell_type": "code",
   "execution_count": 30,
   "metadata": {
    "id": "GCcO0RNUNZMf"
   },
   "outputs": [
    {
     "data": {
      "text/plain": [
       "a    0.25\n",
       "b    0.50\n",
       "c    0.75\n",
       "d    1.00\n",
       "dtype: float64"
      ]
     },
     "execution_count": 30,
     "metadata": {},
     "output_type": "execute_result"
    }
   ],
   "source": [
    "import pandas as pd\n",
    "data = pd.Series([0.25,0.5,0.75,1.0],\n",
    "                 index=['a','b','c','d'])\n",
    "data"
   ]
  },
  {
   "cell_type": "code",
   "execution_count": 31,
   "metadata": {
    "id": "PpeyqL7eNjfN"
   },
   "outputs": [
    {
     "data": {
      "text/plain": [
       "0.5"
      ]
     },
     "execution_count": 31,
     "metadata": {},
     "output_type": "execute_result"
    }
   ],
   "source": [
    "data['b']"
   ]
  },
  {
   "cell_type": "code",
   "execution_count": 32,
   "metadata": {},
   "outputs": [
    {
     "data": {
      "text/plain": [
       "True"
      ]
     },
     "execution_count": 32,
     "metadata": {},
     "output_type": "execute_result"
    }
   ],
   "source": [
    "'a' in data"
   ]
  },
  {
   "cell_type": "code",
   "execution_count": 33,
   "metadata": {},
   "outputs": [
    {
     "data": {
      "text/plain": [
       "Index(['a', 'b', 'c', 'd'], dtype='object')"
      ]
     },
     "execution_count": 33,
     "metadata": {},
     "output_type": "execute_result"
    }
   ],
   "source": [
    "data.keys()"
   ]
  },
  {
   "cell_type": "code",
   "execution_count": 34,
   "metadata": {},
   "outputs": [
    {
     "data": {
      "text/plain": [
       "[('a', 0.25), ('b', 0.5), ('c', 0.75), ('d', 1.0)]"
      ]
     },
     "execution_count": 34,
     "metadata": {},
     "output_type": "execute_result"
    }
   ],
   "source": [
    "list(data.items())"
   ]
  },
  {
   "cell_type": "code",
   "execution_count": 35,
   "metadata": {},
   "outputs": [
    {
     "data": {
      "text/plain": [
       "a    0.25\n",
       "b    0.50\n",
       "c    0.75\n",
       "d    1.00\n",
       "e    1.25\n",
       "dtype: float64"
      ]
     },
     "execution_count": 35,
     "metadata": {},
     "output_type": "execute_result"
    }
   ],
   "source": [
    "data['e'] = 1.25\n",
    "data"
   ]
  },
  {
   "cell_type": "code",
   "execution_count": 36,
   "metadata": {},
   "outputs": [
    {
     "data": {
      "text/plain": [
       "a    0.25\n",
       "b    0.50\n",
       "c    0.75\n",
       "dtype: float64"
      ]
     },
     "execution_count": 36,
     "metadata": {},
     "output_type": "execute_result"
    }
   ],
   "source": [
    "# slicing by explicit index\n",
    "data['a':'c']"
   ]
  },
  {
   "cell_type": "code",
   "execution_count": 37,
   "metadata": {},
   "outputs": [
    {
     "data": {
      "text/plain": [
       "a    0.25\n",
       "b    0.50\n",
       "dtype: float64"
      ]
     },
     "execution_count": 37,
     "metadata": {},
     "output_type": "execute_result"
    }
   ],
   "source": [
    "# slicing by implicit integer index\n",
    "data[0:2]"
   ]
  },
  {
   "cell_type": "code",
   "execution_count": 38,
   "metadata": {},
   "outputs": [
    {
     "data": {
      "text/plain": [
       "b    0.50\n",
       "c    0.75\n",
       "dtype: float64"
      ]
     },
     "execution_count": 38,
     "metadata": {},
     "output_type": "execute_result"
    }
   ],
   "source": [
    "# masking\n",
    "data[(data>0.3) & (data<0.8)]"
   ]
  },
  {
   "cell_type": "code",
   "execution_count": 39,
   "metadata": {},
   "outputs": [
    {
     "data": {
      "text/plain": [
       "a    0.25\n",
       "e    1.25\n",
       "dtype: float64"
      ]
     },
     "execution_count": 39,
     "metadata": {},
     "output_type": "execute_result"
    }
   ],
   "source": [
    "# fancy indexing\n",
    "data[['a','e']]"
   ]
  }
 ],
 "metadata": {
  "colab": {
   "name": "Copy of pandas-intro.ipynb",
   "provenance": []
  },
  "kernelspec": {
   "display_name": "Python 3",
   "language": "python",
   "name": "python3"
  },
  "language_info": {
   "codemirror_mode": {
    "name": "ipython",
    "version": 3
   },
   "file_extension": ".py",
   "mimetype": "text/x-python",
   "name": "python",
   "nbconvert_exporter": "python",
   "pygments_lexer": "ipython3",
   "version": "3.8.5"
  }
 },
 "nbformat": 4,
 "nbformat_minor": 1
}
