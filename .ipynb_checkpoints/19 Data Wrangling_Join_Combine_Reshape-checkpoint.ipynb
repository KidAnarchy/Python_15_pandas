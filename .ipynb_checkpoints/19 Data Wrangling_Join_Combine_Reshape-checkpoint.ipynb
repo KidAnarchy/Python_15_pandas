{
 "cells": [
  {
   "cell_type": "code",
   "execution_count": 1,
   "metadata": {
    "id": "0bHTFKpH004n"
   },
   "outputs": [],
   "source": [
    "import pandas as pd\n",
    "import numpy as np"
   ]
  },
  {
   "cell_type": "markdown",
   "metadata": {
    "id": "lKJEca4oUfnN"
   },
   "source": [
    "# Data Wrangling: Join, Combine, Reshape"
   ]
  },
  {
   "cell_type": "markdown",
   "metadata": {
    "id": "YM-BXN6PUyia"
   },
   "source": [
    "#### Hierachical Indexing\n",
    "---\n",
    "\n",
    "\n",
    "Allow index to have mulitple index levels on an axis\n",
    " \n",
    "Use when working with higher dimensional data ina lower dimensional form\n",
    "\n",
    "๊Use this setup configuration"
   ]
  },
  {
   "cell_type": "code",
   "execution_count": 66,
   "metadata": {
    "id": "nEPiZoGRXzje"
   },
   "outputs": [],
   "source": [
    "import numpy as np\n",
    "import pandas as pd\n",
    "pd.options.display.max_rows = 20\n",
    "np.random.seed(12345)\n",
    "import matplotlib.pyplot as plt\n",
    "plt.rc('figure', figsize=(10, 6))\n",
    "np.set_printoptions(precision=4, suppress=True)"
   ]
  },
  {
   "cell_type": "code",
   "execution_count": 67,
   "metadata": {
    "id": "AeB3OPzuYDKA"
   },
   "outputs": [
    {
     "data": {
      "text/plain": [
       "a  1   -0.204708\n",
       "   2    0.478943\n",
       "   3   -0.519439\n",
       "b  1   -0.555730\n",
       "   3    1.965781\n",
       "c  1    1.393406\n",
       "   2    0.092908\n",
       "d  2    0.281746\n",
       "   3    0.769023\n",
       "dtype: float64"
      ]
     },
     "execution_count": 67,
     "metadata": {},
     "output_type": "execute_result"
    }
   ],
   "source": [
    "data = pd.Series(np.random.randn(9),\n",
    "                 index=[['a', 'a', 'a', 'b', 'b', 'c', 'c', 'd', 'd'],\n",
    "                        [1, 2, 3, 1, 3, 1, 2, 2, 3]])\n",
    "data"
   ]
  },
  {
   "cell_type": "code",
   "execution_count": 68,
   "metadata": {
    "id": "N4MiFIUqYDAl"
   },
   "outputs": [
    {
     "data": {
      "text/plain": [
       "MultiIndex([('a', 1),\n",
       "            ('a', 2),\n",
       "            ('a', 3),\n",
       "            ('b', 1),\n",
       "            ('b', 3),\n",
       "            ('c', 1),\n",
       "            ('c', 2),\n",
       "            ('d', 2),\n",
       "            ('d', 3)],\n",
       "           )"
      ]
     },
     "execution_count": 68,
     "metadata": {},
     "output_type": "execute_result"
    }
   ],
   "source": [
    "data.index"
   ]
  },
  {
   "cell_type": "markdown",
   "metadata": {
    "id": "zW600u2sYVk9"
   },
   "source": [
    "we can see data in the multi level index"
   ]
  },
  {
   "cell_type": "code",
   "execution_count": 69,
   "metadata": {
    "id": "eV1mQGxOYeqz"
   },
   "outputs": [
    {
     "data": {
      "text/plain": [
       "1   -0.555730\n",
       "3    1.965781\n",
       "dtype: float64"
      ]
     },
     "execution_count": 69,
     "metadata": {},
     "output_type": "execute_result"
    }
   ],
   "source": [
    "data['b']"
   ]
  },
  {
   "cell_type": "code",
   "execution_count": 70,
   "metadata": {
    "id": "m5dUDOFPYhS1"
   },
   "outputs": [
    {
     "data": {
      "text/plain": [
       "b  1   -0.555730\n",
       "   3    1.965781\n",
       "c  1    1.393406\n",
       "   2    0.092908\n",
       "dtype: float64"
      ]
     },
     "execution_count": 70,
     "metadata": {},
     "output_type": "execute_result"
    }
   ],
   "source": [
    "data['b':'c']"
   ]
  },
  {
   "cell_type": "code",
   "execution_count": 71,
   "metadata": {
    "id": "ugSzYiRjYru4"
   },
   "outputs": [
    {
     "data": {
      "text/plain": [
       "b  1   -0.555730\n",
       "   3    1.965781\n",
       "d  2    0.281746\n",
       "   3    0.769023\n",
       "dtype: float64"
      ]
     },
     "execution_count": 71,
     "metadata": {},
     "output_type": "execute_result"
    }
   ],
   "source": [
    "data.loc[['b','d']]"
   ]
  },
  {
   "cell_type": "markdown",
   "metadata": {
    "id": "K9SgB8l1YzJa"
   },
   "source": [
    "We can see data from the inder level"
   ]
  },
  {
   "cell_type": "code",
   "execution_count": 72,
   "metadata": {
    "id": "zbrKcyVfYC-o"
   },
   "outputs": [
    {
     "data": {
      "text/plain": [
       "a    0.478943\n",
       "c    0.092908\n",
       "d    0.281746\n",
       "dtype: float64"
      ]
     },
     "execution_count": 72,
     "metadata": {},
     "output_type": "execute_result"
    }
   ],
   "source": [
    "data.loc[:,2]"
   ]
  },
  {
   "cell_type": "markdown",
   "metadata": {
    "id": "ayDSEMaTZB-Y"
   },
   "source": [
    "Hierachical indexing play important role in reshaping data and group-based oepration.\n",
    "\n",
    "The Hierachical index can be rearragen as the DataFrame using `unstack` methods"
   ]
  },
  {
   "cell_type": "code",
   "execution_count": 73,
   "metadata": {
    "id": "crJBm31TY49U"
   },
   "outputs": [
    {
     "data": {
      "text/html": [
       "<div>\n",
       "<style scoped>\n",
       "    .dataframe tbody tr th:only-of-type {\n",
       "        vertical-align: middle;\n",
       "    }\n",
       "\n",
       "    .dataframe tbody tr th {\n",
       "        vertical-align: top;\n",
       "    }\n",
       "\n",
       "    .dataframe thead th {\n",
       "        text-align: right;\n",
       "    }\n",
       "</style>\n",
       "<table border=\"1\" class=\"dataframe\">\n",
       "  <thead>\n",
       "    <tr style=\"text-align: right;\">\n",
       "      <th></th>\n",
       "      <th>1</th>\n",
       "      <th>2</th>\n",
       "      <th>3</th>\n",
       "    </tr>\n",
       "  </thead>\n",
       "  <tbody>\n",
       "    <tr>\n",
       "      <th>a</th>\n",
       "      <td>-0.204708</td>\n",
       "      <td>0.478943</td>\n",
       "      <td>-0.519439</td>\n",
       "    </tr>\n",
       "    <tr>\n",
       "      <th>b</th>\n",
       "      <td>-0.555730</td>\n",
       "      <td>NaN</td>\n",
       "      <td>1.965781</td>\n",
       "    </tr>\n",
       "    <tr>\n",
       "      <th>c</th>\n",
       "      <td>1.393406</td>\n",
       "      <td>0.092908</td>\n",
       "      <td>NaN</td>\n",
       "    </tr>\n",
       "    <tr>\n",
       "      <th>d</th>\n",
       "      <td>NaN</td>\n",
       "      <td>0.281746</td>\n",
       "      <td>0.769023</td>\n",
       "    </tr>\n",
       "  </tbody>\n",
       "</table>\n",
       "</div>"
      ],
      "text/plain": [
       "          1         2         3\n",
       "a -0.204708  0.478943 -0.519439\n",
       "b -0.555730       NaN  1.965781\n",
       "c  1.393406  0.092908       NaN\n",
       "d       NaN  0.281746  0.769023"
      ]
     },
     "execution_count": 73,
     "metadata": {},
     "output_type": "execute_result"
    }
   ],
   "source": [
    "data.unstack()"
   ]
  },
  {
   "cell_type": "markdown",
   "metadata": {
    "id": "bQCYXcSIZjmR"
   },
   "source": [
    "and the inverse version is `stack`\n"
   ]
  },
  {
   "cell_type": "code",
   "execution_count": 74,
   "metadata": {
    "id": "wGuO8MfbZnhy"
   },
   "outputs": [
    {
     "data": {
      "text/plain": [
       "a  1   -0.204708\n",
       "   2    0.478943\n",
       "   3   -0.519439\n",
       "b  1   -0.555730\n",
       "   3    1.965781\n",
       "c  1    1.393406\n",
       "   2    0.092908\n",
       "d  2    0.281746\n",
       "   3    0.769023\n",
       "dtype: float64"
      ]
     },
     "execution_count": 74,
     "metadata": {},
     "output_type": "execute_result"
    }
   ],
   "source": [
    "data.unstack().stack()"
   ]
  },
  {
   "cell_type": "markdown",
   "metadata": {
    "id": "GXsOL913Zm2k"
   },
   "source": [
    "As the data frame, exiter axis can have hierachical index\n"
   ]
  },
  {
   "cell_type": "code",
   "execution_count": 75,
   "metadata": {
    "id": "Ve8ZRh7sZ6Xo"
   },
   "outputs": [
    {
     "data": {
      "text/html": [
       "<div>\n",
       "<style scoped>\n",
       "    .dataframe tbody tr th:only-of-type {\n",
       "        vertical-align: middle;\n",
       "    }\n",
       "\n",
       "    .dataframe tbody tr th {\n",
       "        vertical-align: top;\n",
       "    }\n",
       "\n",
       "    .dataframe thead tr th {\n",
       "        text-align: left;\n",
       "    }\n",
       "</style>\n",
       "<table border=\"1\" class=\"dataframe\">\n",
       "  <thead>\n",
       "    <tr>\n",
       "      <th></th>\n",
       "      <th></th>\n",
       "      <th colspan=\"2\" halign=\"left\">Ohio</th>\n",
       "      <th>Colorado</th>\n",
       "    </tr>\n",
       "    <tr>\n",
       "      <th></th>\n",
       "      <th></th>\n",
       "      <th>Green</th>\n",
       "      <th>Red</th>\n",
       "      <th>Green</th>\n",
       "    </tr>\n",
       "  </thead>\n",
       "  <tbody>\n",
       "    <tr>\n",
       "      <th rowspan=\"2\" valign=\"top\">a</th>\n",
       "      <th>1</th>\n",
       "      <td>0</td>\n",
       "      <td>1</td>\n",
       "      <td>2</td>\n",
       "    </tr>\n",
       "    <tr>\n",
       "      <th>2</th>\n",
       "      <td>3</td>\n",
       "      <td>4</td>\n",
       "      <td>5</td>\n",
       "    </tr>\n",
       "    <tr>\n",
       "      <th rowspan=\"2\" valign=\"top\">b</th>\n",
       "      <th>1</th>\n",
       "      <td>6</td>\n",
       "      <td>7</td>\n",
       "      <td>8</td>\n",
       "    </tr>\n",
       "    <tr>\n",
       "      <th>2</th>\n",
       "      <td>9</td>\n",
       "      <td>10</td>\n",
       "      <td>11</td>\n",
       "    </tr>\n",
       "  </tbody>\n",
       "</table>\n",
       "</div>"
      ],
      "text/plain": [
       "     Ohio     Colorado\n",
       "    Green Red    Green\n",
       "a 1     0   1        2\n",
       "  2     3   4        5\n",
       "b 1     6   7        8\n",
       "  2     9  10       11"
      ]
     },
     "execution_count": 75,
     "metadata": {},
     "output_type": "execute_result"
    }
   ],
   "source": [
    "frame = pd.DataFrame(np.arange(12).reshape((4, 3)),\n",
    "                     index=[['a', 'a', 'b', 'b'], [1, 2, 1, 2]],\n",
    "                     columns=[['Ohio', 'Ohio', 'Colorado'],\n",
    "                              ['Green', 'Red', 'Green']])\n",
    "frame"
   ]
  },
  {
   "cell_type": "markdown",
   "metadata": {
    "id": "CZ9jXyGVZ-fm"
   },
   "source": [
    "The Hierachy level can have names.  "
   ]
  },
  {
   "cell_type": "code",
   "execution_count": 76,
   "metadata": {
    "id": "gqIodxW9aLkH"
   },
   "outputs": [
    {
     "data": {
      "text/html": [
       "<div>\n",
       "<style scoped>\n",
       "    .dataframe tbody tr th:only-of-type {\n",
       "        vertical-align: middle;\n",
       "    }\n",
       "\n",
       "    .dataframe tbody tr th {\n",
       "        vertical-align: top;\n",
       "    }\n",
       "\n",
       "    .dataframe thead tr th {\n",
       "        text-align: left;\n",
       "    }\n",
       "\n",
       "    .dataframe thead tr:last-of-type th {\n",
       "        text-align: right;\n",
       "    }\n",
       "</style>\n",
       "<table border=\"1\" class=\"dataframe\">\n",
       "  <thead>\n",
       "    <tr>\n",
       "      <th></th>\n",
       "      <th>state</th>\n",
       "      <th colspan=\"2\" halign=\"left\">Ohio</th>\n",
       "      <th>Colorado</th>\n",
       "    </tr>\n",
       "    <tr>\n",
       "      <th></th>\n",
       "      <th>color</th>\n",
       "      <th>Green</th>\n",
       "      <th>Red</th>\n",
       "      <th>Green</th>\n",
       "    </tr>\n",
       "    <tr>\n",
       "      <th>key1</th>\n",
       "      <th>key2</th>\n",
       "      <th></th>\n",
       "      <th></th>\n",
       "      <th></th>\n",
       "    </tr>\n",
       "  </thead>\n",
       "  <tbody>\n",
       "    <tr>\n",
       "      <th rowspan=\"2\" valign=\"top\">a</th>\n",
       "      <th>1</th>\n",
       "      <td>0</td>\n",
       "      <td>1</td>\n",
       "      <td>2</td>\n",
       "    </tr>\n",
       "    <tr>\n",
       "      <th>2</th>\n",
       "      <td>3</td>\n",
       "      <td>4</td>\n",
       "      <td>5</td>\n",
       "    </tr>\n",
       "    <tr>\n",
       "      <th rowspan=\"2\" valign=\"top\">b</th>\n",
       "      <th>1</th>\n",
       "      <td>6</td>\n",
       "      <td>7</td>\n",
       "      <td>8</td>\n",
       "    </tr>\n",
       "    <tr>\n",
       "      <th>2</th>\n",
       "      <td>9</td>\n",
       "      <td>10</td>\n",
       "      <td>11</td>\n",
       "    </tr>\n",
       "  </tbody>\n",
       "</table>\n",
       "</div>"
      ],
      "text/plain": [
       "state      Ohio     Colorado\n",
       "color     Green Red    Green\n",
       "key1 key2                   \n",
       "a    1        0   1        2\n",
       "     2        3   4        5\n",
       "b    1        6   7        8\n",
       "     2        9  10       11"
      ]
     },
     "execution_count": 76,
     "metadata": {},
     "output_type": "execute_result"
    }
   ],
   "source": [
    "frame.index.names = ['key1', 'key2']\n",
    "frame.columns.names = ['state', 'color']\n",
    "frame"
   ]
  },
  {
   "cell_type": "markdown",
   "metadata": {
    "id": "emySw1xbbGsB"
   },
   "source": [
    "###Work create this data frame\n",
    "\n",
    "![image.png](data:image/png;base64,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)\n"
   ]
  },
  {
   "cell_type": "code",
   "execution_count": 77,
   "metadata": {
    "id": "A-obRPglGHH3"
   },
   "outputs": [
    {
     "data": {
      "text/plain": [
       "array([[ 4473, 32113],\n",
       "       [ 1597, 28044],\n",
       "       [ 5013, 46028],\n",
       "       [10236, 30104],\n",
       "       [15818, 43097],\n",
       "       [15063, 44404],\n",
       "       [13777, 84133],\n",
       "       [ 3730, 13448],\n",
       "       [ 8395, 74449],\n",
       "       [16054, 58280]])"
      ]
     },
     "execution_count": 77,
     "metadata": {},
     "output_type": "execute_result"
    }
   ],
   "source": [
    "data1 = np.array([4473,32113,1597,28044,5013,46028,10236,30104,15818,43097,15063,44404,13777,84133,3730,13448,8395,74449,16054,58280]).reshape(10,2)\n",
    "data1"
   ]
  },
  {
   "cell_type": "code",
   "execution_count": 78,
   "metadata": {},
   "outputs": [
    {
     "data": {
      "text/html": [
       "<div>\n",
       "<style scoped>\n",
       "    .dataframe tbody tr th:only-of-type {\n",
       "        vertical-align: middle;\n",
       "    }\n",
       "\n",
       "    .dataframe tbody tr th {\n",
       "        vertical-align: top;\n",
       "    }\n",
       "\n",
       "    .dataframe thead tr th {\n",
       "        text-align: left;\n",
       "    }\n",
       "\n",
       "    .dataframe thead tr:last-of-type th {\n",
       "        text-align: right;\n",
       "    }\n",
       "</style>\n",
       "<table border=\"1\" class=\"dataframe\">\n",
       "  <thead>\n",
       "    <tr>\n",
       "      <th></th>\n",
       "      <th></th>\n",
       "      <th>Income</th>\n",
       "      <th>population</th>\n",
       "    </tr>\n",
       "    <tr>\n",
       "      <th>Province</th>\n",
       "      <th>Suddistrict</th>\n",
       "      <th></th>\n",
       "      <th></th>\n",
       "    </tr>\n",
       "  </thead>\n",
       "  <tbody>\n",
       "    <tr>\n",
       "      <th rowspan=\"4\" valign=\"top\">Chiang Mai</th>\n",
       "      <th>Muang</th>\n",
       "      <td>4473</td>\n",
       "      <td>32113</td>\n",
       "    </tr>\n",
       "    <tr>\n",
       "      <th>Sansai</th>\n",
       "      <td>1597</td>\n",
       "      <td>28044</td>\n",
       "    </tr>\n",
       "    <tr>\n",
       "      <th>MeaRim</th>\n",
       "      <td>5013</td>\n",
       "      <td>46028</td>\n",
       "    </tr>\n",
       "    <tr>\n",
       "      <th>Hangdong</th>\n",
       "      <td>10236</td>\n",
       "      <td>30104</td>\n",
       "    </tr>\n",
       "    <tr>\n",
       "      <th rowspan=\"3\" valign=\"top\">Lampang</th>\n",
       "      <th>Jaehom</th>\n",
       "      <td>15818</td>\n",
       "      <td>43097</td>\n",
       "    </tr>\n",
       "    <tr>\n",
       "      <th>Muang</th>\n",
       "      <td>15063</td>\n",
       "      <td>44404</td>\n",
       "    </tr>\n",
       "    <tr>\n",
       "      <th>Maetha</th>\n",
       "      <td>13777</td>\n",
       "      <td>84133</td>\n",
       "    </tr>\n",
       "    <tr>\n",
       "      <th rowspan=\"3\" valign=\"top\">Bangkok</th>\n",
       "      <th>Pathumwan</th>\n",
       "      <td>3730</td>\n",
       "      <td>13448</td>\n",
       "    </tr>\n",
       "    <tr>\n",
       "      <th>Samsen</th>\n",
       "      <td>8395</td>\n",
       "      <td>74449</td>\n",
       "    </tr>\n",
       "    <tr>\n",
       "      <th>Don muang</th>\n",
       "      <td>16054</td>\n",
       "      <td>58280</td>\n",
       "    </tr>\n",
       "  </tbody>\n",
       "</table>\n",
       "</div>"
      ],
      "text/plain": [
       "                       Income population\n",
       "Province   Suddistrict                  \n",
       "Chiang Mai Muang         4473      32113\n",
       "           Sansai        1597      28044\n",
       "           MeaRim        5013      46028\n",
       "           Hangdong     10236      30104\n",
       "Lampang    Jaehom       15818      43097\n",
       "           Muang        15063      44404\n",
       "           Maetha       13777      84133\n",
       "Bangkok    Pathumwan     3730      13448\n",
       "           Samsen        8395      74449\n",
       "           Don muang    16054      58280"
      ]
     },
     "execution_count": 78,
     "metadata": {},
     "output_type": "execute_result"
    }
   ],
   "source": [
    "frame1 = pd.DataFrame(data1,\n",
    "                     index=[['Chiang Mai','Chiang Mai','Chiang Mai','Chiang Mai','Lampang','Lampang','Lampang','Bangkok','Bangkok','Bangkok'],['Muang','Sansai','MeaRim','Hangdong','Jaehom','Muang','Maetha','Pathumwan','Samsen','Don muang']],\n",
    "                     columns=[[ 'Income', 'population']])\n",
    "frame1.index.names = ['Province', 'Suddistrict']\n",
    "frame1"
   ]
  },
  {
   "cell_type": "markdown",
   "metadata": {
    "id": "nQzWwA2dcSH7"
   },
   "source": [
    "## Reordering and Sorting Levels\n",
    "---\n",
    "\n",
    "To transform data, we may have to swap the level of the data frame"
   ]
  },
  {
   "cell_type": "code",
   "execution_count": 79,
   "metadata": {
    "id": "6ZygL5aTcihv"
   },
   "outputs": [
    {
     "data": {
      "text/html": [
       "<div>\n",
       "<style scoped>\n",
       "    .dataframe tbody tr th:only-of-type {\n",
       "        vertical-align: middle;\n",
       "    }\n",
       "\n",
       "    .dataframe tbody tr th {\n",
       "        vertical-align: top;\n",
       "    }\n",
       "\n",
       "    .dataframe thead tr th {\n",
       "        text-align: left;\n",
       "    }\n",
       "\n",
       "    .dataframe thead tr:last-of-type th {\n",
       "        text-align: right;\n",
       "    }\n",
       "</style>\n",
       "<table border=\"1\" class=\"dataframe\">\n",
       "  <thead>\n",
       "    <tr>\n",
       "      <th></th>\n",
       "      <th>state</th>\n",
       "      <th colspan=\"2\" halign=\"left\">Ohio</th>\n",
       "      <th>Colorado</th>\n",
       "    </tr>\n",
       "    <tr>\n",
       "      <th></th>\n",
       "      <th>color</th>\n",
       "      <th>Green</th>\n",
       "      <th>Red</th>\n",
       "      <th>Green</th>\n",
       "    </tr>\n",
       "    <tr>\n",
       "      <th>key2</th>\n",
       "      <th>key1</th>\n",
       "      <th></th>\n",
       "      <th></th>\n",
       "      <th></th>\n",
       "    </tr>\n",
       "  </thead>\n",
       "  <tbody>\n",
       "    <tr>\n",
       "      <th>1</th>\n",
       "      <th>a</th>\n",
       "      <td>0</td>\n",
       "      <td>1</td>\n",
       "      <td>2</td>\n",
       "    </tr>\n",
       "    <tr>\n",
       "      <th>2</th>\n",
       "      <th>a</th>\n",
       "      <td>3</td>\n",
       "      <td>4</td>\n",
       "      <td>5</td>\n",
       "    </tr>\n",
       "    <tr>\n",
       "      <th>1</th>\n",
       "      <th>b</th>\n",
       "      <td>6</td>\n",
       "      <td>7</td>\n",
       "      <td>8</td>\n",
       "    </tr>\n",
       "    <tr>\n",
       "      <th>2</th>\n",
       "      <th>b</th>\n",
       "      <td>9</td>\n",
       "      <td>10</td>\n",
       "      <td>11</td>\n",
       "    </tr>\n",
       "  </tbody>\n",
       "</table>\n",
       "</div>"
      ],
      "text/plain": [
       "state      Ohio     Colorado\n",
       "color     Green Red    Green\n",
       "key2 key1                   \n",
       "1    a        0   1        2\n",
       "2    a        3   4        5\n",
       "1    b        6   7        8\n",
       "2    b        9  10       11"
      ]
     },
     "execution_count": 79,
     "metadata": {},
     "output_type": "execute_result"
    }
   ],
   "source": [
    "frame.swaplevel('key1','key2')"
   ]
  },
  {
   "cell_type": "markdown",
   "metadata": {
    "id": "5arWxbUBcqyt"
   },
   "source": [
    "The index is not sort, so the multi hierachy is not set. we can sort the index at any level to set the better visualization"
   ]
  },
  {
   "cell_type": "code",
   "execution_count": 80,
   "metadata": {
    "id": "X2Ny0uohc4Nl"
   },
   "outputs": [
    {
     "data": {
      "text/html": [
       "<div>\n",
       "<style scoped>\n",
       "    .dataframe tbody tr th:only-of-type {\n",
       "        vertical-align: middle;\n",
       "    }\n",
       "\n",
       "    .dataframe tbody tr th {\n",
       "        vertical-align: top;\n",
       "    }\n",
       "\n",
       "    .dataframe thead tr th {\n",
       "        text-align: left;\n",
       "    }\n",
       "\n",
       "    .dataframe thead tr:last-of-type th {\n",
       "        text-align: right;\n",
       "    }\n",
       "</style>\n",
       "<table border=\"1\" class=\"dataframe\">\n",
       "  <thead>\n",
       "    <tr>\n",
       "      <th></th>\n",
       "      <th>state</th>\n",
       "      <th colspan=\"2\" halign=\"left\">Ohio</th>\n",
       "      <th>Colorado</th>\n",
       "    </tr>\n",
       "    <tr>\n",
       "      <th></th>\n",
       "      <th>color</th>\n",
       "      <th>Green</th>\n",
       "      <th>Red</th>\n",
       "      <th>Green</th>\n",
       "    </tr>\n",
       "    <tr>\n",
       "      <th>key1</th>\n",
       "      <th>key2</th>\n",
       "      <th></th>\n",
       "      <th></th>\n",
       "      <th></th>\n",
       "    </tr>\n",
       "  </thead>\n",
       "  <tbody>\n",
       "    <tr>\n",
       "      <th>a</th>\n",
       "      <th>1</th>\n",
       "      <td>0</td>\n",
       "      <td>1</td>\n",
       "      <td>2</td>\n",
       "    </tr>\n",
       "    <tr>\n",
       "      <th>b</th>\n",
       "      <th>1</th>\n",
       "      <td>6</td>\n",
       "      <td>7</td>\n",
       "      <td>8</td>\n",
       "    </tr>\n",
       "    <tr>\n",
       "      <th>a</th>\n",
       "      <th>2</th>\n",
       "      <td>3</td>\n",
       "      <td>4</td>\n",
       "      <td>5</td>\n",
       "    </tr>\n",
       "    <tr>\n",
       "      <th>b</th>\n",
       "      <th>2</th>\n",
       "      <td>9</td>\n",
       "      <td>10</td>\n",
       "      <td>11</td>\n",
       "    </tr>\n",
       "  </tbody>\n",
       "</table>\n",
       "</div>"
      ],
      "text/plain": [
       "state      Ohio     Colorado\n",
       "color     Green Red    Green\n",
       "key1 key2                   \n",
       "a    1        0   1        2\n",
       "b    1        6   7        8\n",
       "a    2        3   4        5\n",
       "b    2        9  10       11"
      ]
     },
     "execution_count": 80,
     "metadata": {},
     "output_type": "execute_result"
    }
   ],
   "source": [
    "frame.sort_index(level=1)"
   ]
  },
  {
   "cell_type": "markdown",
   "metadata": {
    "id": "19Wv8aXtc3YS"
   },
   "source": [
    "So swap the key and sort will make the hieracy better"
   ]
  },
  {
   "cell_type": "code",
   "execution_count": 81,
   "metadata": {
    "id": "Og3_js0NdJgB"
   },
   "outputs": [
    {
     "data": {
      "text/html": [
       "<div>\n",
       "<style scoped>\n",
       "    .dataframe tbody tr th:only-of-type {\n",
       "        vertical-align: middle;\n",
       "    }\n",
       "\n",
       "    .dataframe tbody tr th {\n",
       "        vertical-align: top;\n",
       "    }\n",
       "\n",
       "    .dataframe thead tr th {\n",
       "        text-align: left;\n",
       "    }\n",
       "\n",
       "    .dataframe thead tr:last-of-type th {\n",
       "        text-align: right;\n",
       "    }\n",
       "</style>\n",
       "<table border=\"1\" class=\"dataframe\">\n",
       "  <thead>\n",
       "    <tr>\n",
       "      <th></th>\n",
       "      <th>state</th>\n",
       "      <th colspan=\"2\" halign=\"left\">Ohio</th>\n",
       "      <th>Colorado</th>\n",
       "    </tr>\n",
       "    <tr>\n",
       "      <th></th>\n",
       "      <th>color</th>\n",
       "      <th>Green</th>\n",
       "      <th>Red</th>\n",
       "      <th>Green</th>\n",
       "    </tr>\n",
       "    <tr>\n",
       "      <th>key2</th>\n",
       "      <th>key1</th>\n",
       "      <th></th>\n",
       "      <th></th>\n",
       "      <th></th>\n",
       "    </tr>\n",
       "  </thead>\n",
       "  <tbody>\n",
       "    <tr>\n",
       "      <th rowspan=\"2\" valign=\"top\">1</th>\n",
       "      <th>a</th>\n",
       "      <td>0</td>\n",
       "      <td>1</td>\n",
       "      <td>2</td>\n",
       "    </tr>\n",
       "    <tr>\n",
       "      <th>b</th>\n",
       "      <td>6</td>\n",
       "      <td>7</td>\n",
       "      <td>8</td>\n",
       "    </tr>\n",
       "    <tr>\n",
       "      <th rowspan=\"2\" valign=\"top\">2</th>\n",
       "      <th>a</th>\n",
       "      <td>3</td>\n",
       "      <td>4</td>\n",
       "      <td>5</td>\n",
       "    </tr>\n",
       "    <tr>\n",
       "      <th>b</th>\n",
       "      <td>9</td>\n",
       "      <td>10</td>\n",
       "      <td>11</td>\n",
       "    </tr>\n",
       "  </tbody>\n",
       "</table>\n",
       "</div>"
      ],
      "text/plain": [
       "state      Ohio     Colorado\n",
       "color     Green Red    Green\n",
       "key2 key1                   \n",
       "1    a        0   1        2\n",
       "     b        6   7        8\n",
       "2    a        3   4        5\n",
       "     b        9  10       11"
      ]
     },
     "execution_count": 81,
     "metadata": {},
     "output_type": "execute_result"
    }
   ],
   "source": [
    "frame.swaplevel(0,1).sort_index(level=0)"
   ]
  },
  {
   "cell_type": "markdown",
   "metadata": {
    "id": "pMDjpHuydQZQ"
   },
   "source": [
    "##Summary Statistics by Level\n",
    "---\n",
    "\n",
    "The statistic data can be calculated with the specific level\n",
    "For example, if we want to calculated on the rows data"
   ]
  },
  {
   "cell_type": "code",
   "execution_count": 82,
   "metadata": {
    "id": "w5aakRcoddFi"
   },
   "outputs": [
    {
     "data": {
      "text/html": [
       "<div>\n",
       "<style scoped>\n",
       "    .dataframe tbody tr th:only-of-type {\n",
       "        vertical-align: middle;\n",
       "    }\n",
       "\n",
       "    .dataframe tbody tr th {\n",
       "        vertical-align: top;\n",
       "    }\n",
       "\n",
       "    .dataframe thead tr th {\n",
       "        text-align: left;\n",
       "    }\n",
       "\n",
       "    .dataframe thead tr:last-of-type th {\n",
       "        text-align: right;\n",
       "    }\n",
       "</style>\n",
       "<table border=\"1\" class=\"dataframe\">\n",
       "  <thead>\n",
       "    <tr>\n",
       "      <th>state</th>\n",
       "      <th colspan=\"2\" halign=\"left\">Ohio</th>\n",
       "      <th>Colorado</th>\n",
       "    </tr>\n",
       "    <tr>\n",
       "      <th>color</th>\n",
       "      <th>Green</th>\n",
       "      <th>Red</th>\n",
       "      <th>Green</th>\n",
       "    </tr>\n",
       "    <tr>\n",
       "      <th>key2</th>\n",
       "      <th></th>\n",
       "      <th></th>\n",
       "      <th></th>\n",
       "    </tr>\n",
       "  </thead>\n",
       "  <tbody>\n",
       "    <tr>\n",
       "      <th>1</th>\n",
       "      <td>6</td>\n",
       "      <td>8</td>\n",
       "      <td>10</td>\n",
       "    </tr>\n",
       "    <tr>\n",
       "      <th>2</th>\n",
       "      <td>12</td>\n",
       "      <td>14</td>\n",
       "      <td>16</td>\n",
       "    </tr>\n",
       "  </tbody>\n",
       "</table>\n",
       "</div>"
      ],
      "text/plain": [
       "state  Ohio     Colorado\n",
       "color Green Red    Green\n",
       "key2                    \n",
       "1         6   8       10\n",
       "2        12  14       16"
      ]
     },
     "execution_count": 82,
     "metadata": {},
     "output_type": "execute_result"
    }
   ],
   "source": [
    "frame.sum(level='key2')"
   ]
  },
  {
   "cell_type": "markdown",
   "metadata": {
    "id": "9_lxit_HdmgE"
   },
   "source": [
    "Or caluclate on the columnwise"
   ]
  },
  {
   "cell_type": "code",
   "execution_count": 83,
   "metadata": {
    "id": "qrTdICO1do4Q"
   },
   "outputs": [
    {
     "data": {
      "text/html": [
       "<div>\n",
       "<style scoped>\n",
       "    .dataframe tbody tr th:only-of-type {\n",
       "        vertical-align: middle;\n",
       "    }\n",
       "\n",
       "    .dataframe tbody tr th {\n",
       "        vertical-align: top;\n",
       "    }\n",
       "\n",
       "    .dataframe thead th {\n",
       "        text-align: right;\n",
       "    }\n",
       "</style>\n",
       "<table border=\"1\" class=\"dataframe\">\n",
       "  <thead>\n",
       "    <tr style=\"text-align: right;\">\n",
       "      <th></th>\n",
       "      <th>color</th>\n",
       "      <th>Green</th>\n",
       "      <th>Red</th>\n",
       "    </tr>\n",
       "    <tr>\n",
       "      <th>key1</th>\n",
       "      <th>key2</th>\n",
       "      <th></th>\n",
       "      <th></th>\n",
       "    </tr>\n",
       "  </thead>\n",
       "  <tbody>\n",
       "    <tr>\n",
       "      <th rowspan=\"2\" valign=\"top\">a</th>\n",
       "      <th>1</th>\n",
       "      <td>2</td>\n",
       "      <td>1</td>\n",
       "    </tr>\n",
       "    <tr>\n",
       "      <th>2</th>\n",
       "      <td>8</td>\n",
       "      <td>4</td>\n",
       "    </tr>\n",
       "    <tr>\n",
       "      <th rowspan=\"2\" valign=\"top\">b</th>\n",
       "      <th>1</th>\n",
       "      <td>14</td>\n",
       "      <td>7</td>\n",
       "    </tr>\n",
       "    <tr>\n",
       "      <th>2</th>\n",
       "      <td>20</td>\n",
       "      <td>10</td>\n",
       "    </tr>\n",
       "  </tbody>\n",
       "</table>\n",
       "</div>"
      ],
      "text/plain": [
       "color      Green  Red\n",
       "key1 key2            \n",
       "a    1         2    1\n",
       "     2         8    4\n",
       "b    1        14    7\n",
       "     2        20   10"
      ]
     },
     "execution_count": 83,
     "metadata": {},
     "output_type": "execute_result"
    }
   ],
   "source": [
    "frame.sum(level='color',axis=1)"
   ]
  },
  {
   "cell_type": "markdown",
   "metadata": {
    "id": "MBeUAN24d1fO"
   },
   "source": [
    "##Indexing with DataFrame's Column\n",
    "\n",
    "---\n",
    "\n",
    "some time we want to use the row index as the columns"
   ]
  },
  {
   "cell_type": "code",
   "execution_count": 84,
   "metadata": {
    "id": "9FCdXwSxeDZf"
   },
   "outputs": [
    {
     "data": {
      "text/html": [
       "<div>\n",
       "<style scoped>\n",
       "    .dataframe tbody tr th:only-of-type {\n",
       "        vertical-align: middle;\n",
       "    }\n",
       "\n",
       "    .dataframe tbody tr th {\n",
       "        vertical-align: top;\n",
       "    }\n",
       "\n",
       "    .dataframe thead th {\n",
       "        text-align: right;\n",
       "    }\n",
       "</style>\n",
       "<table border=\"1\" class=\"dataframe\">\n",
       "  <thead>\n",
       "    <tr style=\"text-align: right;\">\n",
       "      <th></th>\n",
       "      <th>a</th>\n",
       "      <th>b</th>\n",
       "      <th>c</th>\n",
       "      <th>d</th>\n",
       "    </tr>\n",
       "  </thead>\n",
       "  <tbody>\n",
       "    <tr>\n",
       "      <th>0</th>\n",
       "      <td>0</td>\n",
       "      <td>7</td>\n",
       "      <td>one</td>\n",
       "      <td>0</td>\n",
       "    </tr>\n",
       "    <tr>\n",
       "      <th>1</th>\n",
       "      <td>1</td>\n",
       "      <td>6</td>\n",
       "      <td>one</td>\n",
       "      <td>1</td>\n",
       "    </tr>\n",
       "    <tr>\n",
       "      <th>2</th>\n",
       "      <td>2</td>\n",
       "      <td>5</td>\n",
       "      <td>one</td>\n",
       "      <td>2</td>\n",
       "    </tr>\n",
       "    <tr>\n",
       "      <th>3</th>\n",
       "      <td>3</td>\n",
       "      <td>4</td>\n",
       "      <td>two</td>\n",
       "      <td>0</td>\n",
       "    </tr>\n",
       "    <tr>\n",
       "      <th>4</th>\n",
       "      <td>4</td>\n",
       "      <td>3</td>\n",
       "      <td>two</td>\n",
       "      <td>1</td>\n",
       "    </tr>\n",
       "    <tr>\n",
       "      <th>5</th>\n",
       "      <td>5</td>\n",
       "      <td>2</td>\n",
       "      <td>two</td>\n",
       "      <td>2</td>\n",
       "    </tr>\n",
       "    <tr>\n",
       "      <th>6</th>\n",
       "      <td>6</td>\n",
       "      <td>1</td>\n",
       "      <td>two</td>\n",
       "      <td>3</td>\n",
       "    </tr>\n",
       "  </tbody>\n",
       "</table>\n",
       "</div>"
      ],
      "text/plain": [
       "   a  b    c  d\n",
       "0  0  7  one  0\n",
       "1  1  6  one  1\n",
       "2  2  5  one  2\n",
       "3  3  4  two  0\n",
       "4  4  3  two  1\n",
       "5  5  2  two  2\n",
       "6  6  1  two  3"
      ]
     },
     "execution_count": 84,
     "metadata": {},
     "output_type": "execute_result"
    }
   ],
   "source": [
    "frame = pd.DataFrame({'a': range(7), 'b': range(7, 0, -1),\n",
    "                      'c': ['one', 'one', 'one', 'two', 'two',\n",
    "                            'two', 'two'],\n",
    "                      'd': [0, 1, 2, 0, 1, 2, 3]})\n",
    "frame"
   ]
  },
  {
   "cell_type": "markdown",
   "metadata": {
    "id": "e5pn53joeN9I"
   },
   "source": [
    "We can create a new data farme using some columns as index"
   ]
  },
  {
   "cell_type": "code",
   "execution_count": 85,
   "metadata": {
    "id": "j4VZfURdeUUR"
   },
   "outputs": [
    {
     "data": {
      "text/html": [
       "<div>\n",
       "<style scoped>\n",
       "    .dataframe tbody tr th:only-of-type {\n",
       "        vertical-align: middle;\n",
       "    }\n",
       "\n",
       "    .dataframe tbody tr th {\n",
       "        vertical-align: top;\n",
       "    }\n",
       "\n",
       "    .dataframe thead th {\n",
       "        text-align: right;\n",
       "    }\n",
       "</style>\n",
       "<table border=\"1\" class=\"dataframe\">\n",
       "  <thead>\n",
       "    <tr style=\"text-align: right;\">\n",
       "      <th></th>\n",
       "      <th></th>\n",
       "      <th>a</th>\n",
       "      <th>b</th>\n",
       "    </tr>\n",
       "    <tr>\n",
       "      <th>c</th>\n",
       "      <th>d</th>\n",
       "      <th></th>\n",
       "      <th></th>\n",
       "    </tr>\n",
       "  </thead>\n",
       "  <tbody>\n",
       "    <tr>\n",
       "      <th rowspan=\"3\" valign=\"top\">one</th>\n",
       "      <th>0</th>\n",
       "      <td>0</td>\n",
       "      <td>7</td>\n",
       "    </tr>\n",
       "    <tr>\n",
       "      <th>1</th>\n",
       "      <td>1</td>\n",
       "      <td>6</td>\n",
       "    </tr>\n",
       "    <tr>\n",
       "      <th>2</th>\n",
       "      <td>2</td>\n",
       "      <td>5</td>\n",
       "    </tr>\n",
       "    <tr>\n",
       "      <th rowspan=\"4\" valign=\"top\">two</th>\n",
       "      <th>0</th>\n",
       "      <td>3</td>\n",
       "      <td>4</td>\n",
       "    </tr>\n",
       "    <tr>\n",
       "      <th>1</th>\n",
       "      <td>4</td>\n",
       "      <td>3</td>\n",
       "    </tr>\n",
       "    <tr>\n",
       "      <th>2</th>\n",
       "      <td>5</td>\n",
       "      <td>2</td>\n",
       "    </tr>\n",
       "    <tr>\n",
       "      <th>3</th>\n",
       "      <td>6</td>\n",
       "      <td>1</td>\n",
       "    </tr>\n",
       "  </tbody>\n",
       "</table>\n",
       "</div>"
      ],
      "text/plain": [
       "       a  b\n",
       "c   d      \n",
       "one 0  0  7\n",
       "    1  1  6\n",
       "    2  2  5\n",
       "two 0  3  4\n",
       "    1  4  3\n",
       "    2  5  2\n",
       "    3  6  1"
      ]
     },
     "execution_count": 85,
     "metadata": {},
     "output_type": "execute_result"
    }
   ],
   "source": [
    "frame2 = frame.set_index(['c','d'])\n",
    "frame2"
   ]
  },
  {
   "cell_type": "markdown",
   "metadata": {
    "id": "tcuHhjzdelgo"
   },
   "source": [
    "By default, the column is removed from the source data frame. However, if we do not want to remove the column, the `drop` parameter is passed"
   ]
  },
  {
   "cell_type": "code",
   "execution_count": 86,
   "metadata": {
    "id": "T0u7NOAzewY3"
   },
   "outputs": [
    {
     "data": {
      "text/html": [
       "<div>\n",
       "<style scoped>\n",
       "    .dataframe tbody tr th:only-of-type {\n",
       "        vertical-align: middle;\n",
       "    }\n",
       "\n",
       "    .dataframe tbody tr th {\n",
       "        vertical-align: top;\n",
       "    }\n",
       "\n",
       "    .dataframe thead th {\n",
       "        text-align: right;\n",
       "    }\n",
       "</style>\n",
       "<table border=\"1\" class=\"dataframe\">\n",
       "  <thead>\n",
       "    <tr style=\"text-align: right;\">\n",
       "      <th></th>\n",
       "      <th></th>\n",
       "      <th>a</th>\n",
       "      <th>b</th>\n",
       "      <th>c</th>\n",
       "      <th>d</th>\n",
       "    </tr>\n",
       "    <tr>\n",
       "      <th>c</th>\n",
       "      <th>d</th>\n",
       "      <th></th>\n",
       "      <th></th>\n",
       "      <th></th>\n",
       "      <th></th>\n",
       "    </tr>\n",
       "  </thead>\n",
       "  <tbody>\n",
       "    <tr>\n",
       "      <th rowspan=\"3\" valign=\"top\">one</th>\n",
       "      <th>0</th>\n",
       "      <td>0</td>\n",
       "      <td>7</td>\n",
       "      <td>one</td>\n",
       "      <td>0</td>\n",
       "    </tr>\n",
       "    <tr>\n",
       "      <th>1</th>\n",
       "      <td>1</td>\n",
       "      <td>6</td>\n",
       "      <td>one</td>\n",
       "      <td>1</td>\n",
       "    </tr>\n",
       "    <tr>\n",
       "      <th>2</th>\n",
       "      <td>2</td>\n",
       "      <td>5</td>\n",
       "      <td>one</td>\n",
       "      <td>2</td>\n",
       "    </tr>\n",
       "    <tr>\n",
       "      <th rowspan=\"4\" valign=\"top\">two</th>\n",
       "      <th>0</th>\n",
       "      <td>3</td>\n",
       "      <td>4</td>\n",
       "      <td>two</td>\n",
       "      <td>0</td>\n",
       "    </tr>\n",
       "    <tr>\n",
       "      <th>1</th>\n",
       "      <td>4</td>\n",
       "      <td>3</td>\n",
       "      <td>two</td>\n",
       "      <td>1</td>\n",
       "    </tr>\n",
       "    <tr>\n",
       "      <th>2</th>\n",
       "      <td>5</td>\n",
       "      <td>2</td>\n",
       "      <td>two</td>\n",
       "      <td>2</td>\n",
       "    </tr>\n",
       "    <tr>\n",
       "      <th>3</th>\n",
       "      <td>6</td>\n",
       "      <td>1</td>\n",
       "      <td>two</td>\n",
       "      <td>3</td>\n",
       "    </tr>\n",
       "  </tbody>\n",
       "</table>\n",
       "</div>"
      ],
      "text/plain": [
       "       a  b    c  d\n",
       "c   d              \n",
       "one 0  0  7  one  0\n",
       "    1  1  6  one  1\n",
       "    2  2  5  one  2\n",
       "two 0  3  4  two  0\n",
       "    1  4  3  two  1\n",
       "    2  5  2  two  2\n",
       "    3  6  1  two  3"
      ]
     },
     "execution_count": 86,
     "metadata": {},
     "output_type": "execute_result"
    }
   ],
   "source": [
    "frame.set_index(['c','d'],drop = False)"
   ]
  },
  {
   "cell_type": "markdown",
   "metadata": {
    "id": "tmjSFr8NHAgG"
   },
   "source": [
    "### Exersice\n",
    "---\n",
    "\n",
    "\n",
    "From the given [car_details.xlsx](https://drive.google.com/open?id=1-7Q2mYi6LJNTWClJo4y0_vPB4YAuJeWn)\n",
    "\n",
    "provided the hierachy data frame which carbrand, carmodel, and the model_name TH is a key\n",
    "\n",
    "![image.png](data:image/png;base64,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)"
   ]
  },
  {
   "cell_type": "code",
   "execution_count": 87,
   "metadata": {},
   "outputs": [
    {
     "data": {
      "text/html": [
       "<div>\n",
       "<style scoped>\n",
       "    .dataframe tbody tr th:only-of-type {\n",
       "        vertical-align: middle;\n",
       "    }\n",
       "\n",
       "    .dataframe tbody tr th {\n",
       "        vertical-align: top;\n",
       "    }\n",
       "\n",
       "    .dataframe thead th {\n",
       "        text-align: right;\n",
       "    }\n",
       "</style>\n",
       "<table border=\"1\" class=\"dataframe\">\n",
       "  <thead>\n",
       "    <tr style=\"text-align: right;\">\n",
       "      <th></th>\n",
       "      <th>car_model</th>\n",
       "      <th>model_name_th</th>\n",
       "      <th>nickname</th>\n",
       "      <th>item_name</th>\n",
       "      <th>fitment_detail</th>\n",
       "      <th>standard_price</th>\n",
       "    </tr>\n",
       "    <tr>\n",
       "      <th>car_brand</th>\n",
       "      <th></th>\n",
       "      <th></th>\n",
       "      <th></th>\n",
       "      <th></th>\n",
       "      <th></th>\n",
       "      <th></th>\n",
       "    </tr>\n",
       "  </thead>\n",
       "  <tbody>\n",
       "    <tr>\n",
       "      <th>AUDI</th>\n",
       "      <td>Q5</td>\n",
       "      <td>คิว5</td>\n",
       "      <td>โฉมปี 2008-2016</td>\n",
       "      <td>ไส้กรองน้ำมันเครื่อง</td>\n",
       "      <td>-</td>\n",
       "      <td>NaN</td>\n",
       "    </tr>\n",
       "    <tr>\n",
       "      <th>BMW</th>\n",
       "      <td>SERIES 5</td>\n",
       "      <td>ซีรี่ย์5</td>\n",
       "      <td>โฉมปี 2003-2010 (E60)</td>\n",
       "      <td>ไส้กรองน้ำมันเครื่อง</td>\n",
       "      <td>-</td>\n",
       "      <td>NaN</td>\n",
       "    </tr>\n",
       "    <tr>\n",
       "      <th>BMW</th>\n",
       "      <td>SERIES 5</td>\n",
       "      <td>ซีรี่ย์5</td>\n",
       "      <td>โฉมปี 2010-2017 (F10)</td>\n",
       "      <td>ไส้กรองน้ำมันเครื่อง</td>\n",
       "      <td>-</td>\n",
       "      <td>NaN</td>\n",
       "    </tr>\n",
       "    <tr>\n",
       "      <th>BMW</th>\n",
       "      <td>SERIES 5</td>\n",
       "      <td>ซีรี่ย์5</td>\n",
       "      <td>โฉมปี 2010-2017 (F10)</td>\n",
       "      <td>ใบปัดน้ำฝน</td>\n",
       "      <td>-</td>\n",
       "      <td>NaN</td>\n",
       "    </tr>\n",
       "    <tr>\n",
       "      <th>BMW</th>\n",
       "      <td>SERIES 3</td>\n",
       "      <td>ซีรี่ย์3</td>\n",
       "      <td>โฉมปี 2011-2018 (F30)</td>\n",
       "      <td>ไส้กรองน้ำมันเครื่อง</td>\n",
       "      <td>-</td>\n",
       "      <td>NaN</td>\n",
       "    </tr>\n",
       "    <tr>\n",
       "      <th>...</th>\n",
       "      <td>...</td>\n",
       "      <td>...</td>\n",
       "      <td>...</td>\n",
       "      <td>...</td>\n",
       "      <td>...</td>\n",
       "      <td>...</td>\n",
       "    </tr>\n",
       "    <tr>\n",
       "      <th>TOYOTA</th>\n",
       "      <td>HILUX VIGO</td>\n",
       "      <td>ไฮลักซ์ วีโก้</td>\n",
       "      <td>โฉมปี 2003-2016 (Vigo 2WD)</td>\n",
       "      <td>โช้คอัพ</td>\n",
       "      <td>หน้า</td>\n",
       "      <td>1250.0</td>\n",
       "    </tr>\n",
       "    <tr>\n",
       "      <th>TOYOTA</th>\n",
       "      <td>HILUX VIGO</td>\n",
       "      <td>ไฮลักซ์ วีโก้</td>\n",
       "      <td>โฉมปี 2003-2016 (Vigo 2WD)</td>\n",
       "      <td>โช้คอัพ</td>\n",
       "      <td>หน้า</td>\n",
       "      <td>1250.0</td>\n",
       "    </tr>\n",
       "    <tr>\n",
       "      <th>TOYOTA</th>\n",
       "      <td>COROLLA ALTIS</td>\n",
       "      <td>โคโรล่า อัลติส</td>\n",
       "      <td>โฉมปี 2008-2012 (ZZE141)</td>\n",
       "      <td>โช้คอัพ</td>\n",
       "      <td>หลัง</td>\n",
       "      <td>1440.0</td>\n",
       "    </tr>\n",
       "    <tr>\n",
       "      <th>TOYOTA</th>\n",
       "      <td>HILUX REVO</td>\n",
       "      <td>ไฮลักซ์ รีโว่</td>\n",
       "      <td>โฉมปี 2016-2018 (Revo 4WD และ Pre-Runner ยกสูง)</td>\n",
       "      <td>โช้คอัพ</td>\n",
       "      <td>หน้า</td>\n",
       "      <td>1580.0</td>\n",
       "    </tr>\n",
       "    <tr>\n",
       "      <th>TOYOTA</th>\n",
       "      <td>FORTUNER</td>\n",
       "      <td>ฟอร์จูนเนอร์</td>\n",
       "      <td>โฉมปี 2015-2019 (KUN160)</td>\n",
       "      <td>โช้คอัพ</td>\n",
       "      <td>หน้า</td>\n",
       "      <td>1580.0</td>\n",
       "    </tr>\n",
       "  </tbody>\n",
       "</table>\n",
       "<p>4729 rows × 6 columns</p>\n",
       "</div>"
      ],
      "text/plain": [
       "               car_model   model_name_th  \\\n",
       "car_brand                                  \n",
       "AUDI                  Q5            คิว5   \n",
       "BMW             SERIES 5        ซีรี่ย์5   \n",
       "BMW             SERIES 5        ซีรี่ย์5   \n",
       "BMW             SERIES 5        ซีรี่ย์5   \n",
       "BMW             SERIES 3        ซีรี่ย์3   \n",
       "...                  ...             ...   \n",
       "TOYOTA        HILUX VIGO   ไฮลักซ์ วีโก้   \n",
       "TOYOTA        HILUX VIGO   ไฮลักซ์ วีโก้   \n",
       "TOYOTA     COROLLA ALTIS  โคโรล่า อัลติส   \n",
       "TOYOTA        HILUX REVO   ไฮลักซ์ รีโว่   \n",
       "TOYOTA          FORTUNER    ฟอร์จูนเนอร์   \n",
       "\n",
       "                                                  nickname  \\\n",
       "car_brand                                                    \n",
       "AUDI                                       โฉมปี 2008-2016   \n",
       "BMW                                  โฉมปี 2003-2010 (E60)   \n",
       "BMW                                  โฉมปี 2010-2017 (F10)   \n",
       "BMW                                  โฉมปี 2010-2017 (F10)   \n",
       "BMW                                  โฉมปี 2011-2018 (F30)   \n",
       "...                                                    ...   \n",
       "TOYOTA                          โฉมปี 2003-2016 (Vigo 2WD)   \n",
       "TOYOTA                          โฉมปี 2003-2016 (Vigo 2WD)   \n",
       "TOYOTA                            โฉมปี 2008-2012 (ZZE141)   \n",
       "TOYOTA     โฉมปี 2016-2018 (Revo 4WD และ Pre-Runner ยกสูง)   \n",
       "TOYOTA                            โฉมปี 2015-2019 (KUN160)   \n",
       "\n",
       "                      item_name fitment_detail  standard_price  \n",
       "car_brand                                                       \n",
       "AUDI       ไส้กรองน้ำมันเครื่อง              -             NaN  \n",
       "BMW        ไส้กรองน้ำมันเครื่อง              -             NaN  \n",
       "BMW        ไส้กรองน้ำมันเครื่อง              -             NaN  \n",
       "BMW                  ใบปัดน้ำฝน              -             NaN  \n",
       "BMW        ไส้กรองน้ำมันเครื่อง              -             NaN  \n",
       "...                         ...            ...             ...  \n",
       "TOYOTA                  โช้คอัพ           หน้า          1250.0  \n",
       "TOYOTA                  โช้คอัพ           หน้า          1250.0  \n",
       "TOYOTA                  โช้คอัพ           หลัง          1440.0  \n",
       "TOYOTA                  โช้คอัพ           หน้า          1580.0  \n",
       "TOYOTA                  โช้คอัพ           หน้า          1580.0  \n",
       "\n",
       "[4729 rows x 6 columns]"
      ]
     },
     "execution_count": 87,
     "metadata": {},
     "output_type": "execute_result"
    }
   ],
   "source": [
    "df2 = pd.read_excel('example/car_details.xlsx',sheet_name = 'Sheet 1', index_col = 0, usecols = 'B:H',\n",
    "                      skiprows = 1)\n",
    "df2"
   ]
  },
  {
   "cell_type": "code",
   "execution_count": 88,
   "metadata": {},
   "outputs": [
    {
     "data": {
      "text/html": [
       "<div>\n",
       "<style scoped>\n",
       "    .dataframe tbody tr th:only-of-type {\n",
       "        vertical-align: middle;\n",
       "    }\n",
       "\n",
       "    .dataframe tbody tr th {\n",
       "        vertical-align: top;\n",
       "    }\n",
       "\n",
       "    .dataframe thead th {\n",
       "        text-align: right;\n",
       "    }\n",
       "</style>\n",
       "<table border=\"1\" class=\"dataframe\">\n",
       "  <thead>\n",
       "    <tr style=\"text-align: right;\">\n",
       "      <th></th>\n",
       "      <th>car_model</th>\n",
       "      <th>model_name_th</th>\n",
       "      <th>nickname</th>\n",
       "      <th>item_name</th>\n",
       "      <th>fitment_detail</th>\n",
       "      <th>standard_price</th>\n",
       "    </tr>\n",
       "    <tr>\n",
       "      <th>car_brand</th>\n",
       "      <th></th>\n",
       "      <th></th>\n",
       "      <th></th>\n",
       "      <th></th>\n",
       "      <th></th>\n",
       "      <th></th>\n",
       "    </tr>\n",
       "  </thead>\n",
       "  <tbody>\n",
       "    <tr>\n",
       "      <th>AUDI</th>\n",
       "      <td>Q5</td>\n",
       "      <td>คิว5</td>\n",
       "      <td>โฉมปี 2008-2016</td>\n",
       "      <td>ไส้กรองน้ำมันเครื่อง</td>\n",
       "      <td>-</td>\n",
       "      <td>NaN</td>\n",
       "    </tr>\n",
       "    <tr>\n",
       "      <th>BMW</th>\n",
       "      <td>SERIES 3</td>\n",
       "      <td>ซีรี่ย์3</td>\n",
       "      <td>โฉมปี 1999-2006 (E46)</td>\n",
       "      <td>ผ้าดิสเบรค</td>\n",
       "      <td>หลัง</td>\n",
       "      <td>1500.0</td>\n",
       "    </tr>\n",
       "    <tr>\n",
       "      <th>BMW</th>\n",
       "      <td>SERIES 3</td>\n",
       "      <td>ซีรี่ย์3</td>\n",
       "      <td>โฉมปี 1995-1998 (E36)</td>\n",
       "      <td>จานดิสเบรค</td>\n",
       "      <td>หน้า</td>\n",
       "      <td>1300.0</td>\n",
       "    </tr>\n",
       "    <tr>\n",
       "      <th>BMW</th>\n",
       "      <td>X1</td>\n",
       "      <td>เอ็กซ์1</td>\n",
       "      <td>โฉมปี 2009-2015 (E84)</td>\n",
       "      <td>ไส้กรองน้ำมันเครื่อง</td>\n",
       "      <td>-</td>\n",
       "      <td>NaN</td>\n",
       "    </tr>\n",
       "    <tr>\n",
       "      <th>BMW</th>\n",
       "      <td>SERIES 3</td>\n",
       "      <td>ซีรี่ย์3</td>\n",
       "      <td>โฉมปี 1995-1998 (E36)</td>\n",
       "      <td>ผ้าดิสเบรค</td>\n",
       "      <td>หน้า</td>\n",
       "      <td>1300.0</td>\n",
       "    </tr>\n",
       "    <tr>\n",
       "      <th>BMW</th>\n",
       "      <td>SERIES 3</td>\n",
       "      <td>ซีรี่ย์3</td>\n",
       "      <td>โฉมปี 1999-2006 (E46)</td>\n",
       "      <td>ผ้าดิสเบรค</td>\n",
       "      <td>หน้า</td>\n",
       "      <td>1600.0</td>\n",
       "    </tr>\n",
       "    <tr>\n",
       "      <th>BMW</th>\n",
       "      <td>SERIES 3</td>\n",
       "      <td>ซีรี่ย์3</td>\n",
       "      <td>โฉมปี 2011-2018 (F30)</td>\n",
       "      <td>ไส้กรองน้ำมันเครื่อง</td>\n",
       "      <td>-</td>\n",
       "      <td>NaN</td>\n",
       "    </tr>\n",
       "    <tr>\n",
       "      <th>BMW</th>\n",
       "      <td>SERIES 5</td>\n",
       "      <td>ซีรี่ย์5</td>\n",
       "      <td>โฉมปี 2010-2017 (F10)</td>\n",
       "      <td>ใบปัดน้ำฝน</td>\n",
       "      <td>-</td>\n",
       "      <td>NaN</td>\n",
       "    </tr>\n",
       "    <tr>\n",
       "      <th>BMW</th>\n",
       "      <td>SERIES 5</td>\n",
       "      <td>ซีรี่ย์5</td>\n",
       "      <td>โฉมปี 2010-2017 (F10)</td>\n",
       "      <td>ไส้กรองน้ำมันเครื่อง</td>\n",
       "      <td>-</td>\n",
       "      <td>NaN</td>\n",
       "    </tr>\n",
       "    <tr>\n",
       "      <th>BMW</th>\n",
       "      <td>SERIES 5</td>\n",
       "      <td>ซีรี่ย์5</td>\n",
       "      <td>โฉมปี 2003-2010 (E60)</td>\n",
       "      <td>ไส้กรองน้ำมันเครื่อง</td>\n",
       "      <td>-</td>\n",
       "      <td>NaN</td>\n",
       "    </tr>\n",
       "    <tr>\n",
       "      <th>BMW</th>\n",
       "      <td>SERIES 3</td>\n",
       "      <td>ซีรี่ย์3</td>\n",
       "      <td>โฉมปี 1995-1998 (E36)</td>\n",
       "      <td>ผ้าดิสเบรค</td>\n",
       "      <td>หลัง</td>\n",
       "      <td>1300.0</td>\n",
       "    </tr>\n",
       "    <tr>\n",
       "      <th>CHEVROLET</th>\n",
       "      <td>CAPTIVA</td>\n",
       "      <td>แคปติว่า</td>\n",
       "      <td>โฉมปี 2006-2011</td>\n",
       "      <td>โช้คอัพ</td>\n",
       "      <td>หลัง</td>\n",
       "      <td>2340.0</td>\n",
       "    </tr>\n",
       "    <tr>\n",
       "      <th>CHEVROLET</th>\n",
       "      <td>CAPTIVA</td>\n",
       "      <td>แคปติว่า</td>\n",
       "      <td>โฉมปี 2011-2016</td>\n",
       "      <td>ลูกหมากกันโคลง</td>\n",
       "      <td>หน้า</td>\n",
       "      <td>1050.0</td>\n",
       "    </tr>\n",
       "    <tr>\n",
       "      <th>CHEVROLET</th>\n",
       "      <td>CAPTIVA</td>\n",
       "      <td>แคปติว่า</td>\n",
       "      <td>โฉมปี 2011-2016</td>\n",
       "      <td>ยางกันฝุ่นแร็ค</td>\n",
       "      <td>-</td>\n",
       "      <td>NaN</td>\n",
       "    </tr>\n",
       "    <tr>\n",
       "      <th>CHEVROLET</th>\n",
       "      <td>CAPTIVA</td>\n",
       "      <td>แคปติว่า</td>\n",
       "      <td>โฉมปี 2011-2016</td>\n",
       "      <td>บู๊ชปีกนก</td>\n",
       "      <td>ล่างใหญ่</td>\n",
       "      <td>1050.0</td>\n",
       "    </tr>\n",
       "    <tr>\n",
       "      <th>CHEVROLET</th>\n",
       "      <td>CAPTIVA</td>\n",
       "      <td>แคปติว่า</td>\n",
       "      <td>โฉมปี 2006-2011</td>\n",
       "      <td>สายอ่อนดิสเบรค</td>\n",
       "      <td>-</td>\n",
       "      <td>550.0</td>\n",
       "    </tr>\n",
       "    <tr>\n",
       "      <th>CHEVROLET</th>\n",
       "      <td>CAPTIVA</td>\n",
       "      <td>แคปติว่า</td>\n",
       "      <td>โฉมปี 2006-2011</td>\n",
       "      <td>ผ้าดิสเบรค</td>\n",
       "      <td>หน้า</td>\n",
       "      <td>2150.0</td>\n",
       "    </tr>\n",
       "    <tr>\n",
       "      <th>CHEVROLET</th>\n",
       "      <td>CAPTIVA</td>\n",
       "      <td>แคปติว่า</td>\n",
       "      <td>โฉมปี 2006-2011</td>\n",
       "      <td>ผ้าดิสเบรค</td>\n",
       "      <td>หลัง</td>\n",
       "      <td>1500.0</td>\n",
       "    </tr>\n",
       "    <tr>\n",
       "      <th>CHEVROLET</th>\n",
       "      <td>CAPTIVA</td>\n",
       "      <td>แคปติว่า</td>\n",
       "      <td>โฉมปี 2006-2011</td>\n",
       "      <td>ยางกันโคลง</td>\n",
       "      <td>หน้า</td>\n",
       "      <td>150.0</td>\n",
       "    </tr>\n",
       "    <tr>\n",
       "      <th>CHEVROLET</th>\n",
       "      <td>CAPTIVA</td>\n",
       "      <td>แคปติว่า</td>\n",
       "      <td>โฉมปี 2006-2011</td>\n",
       "      <td>บู๊ชปีกนก</td>\n",
       "      <td>ล่าง</td>\n",
       "      <td>380.0</td>\n",
       "    </tr>\n",
       "  </tbody>\n",
       "</table>\n",
       "</div>"
      ],
      "text/plain": [
       "          car_model model_name_th               nickname  \\\n",
       "car_brand                                                  \n",
       "AUDI             Q5          คิว5        โฉมปี 2008-2016   \n",
       "BMW        SERIES 3      ซีรี่ย์3  โฉมปี 1999-2006 (E46)   \n",
       "BMW        SERIES 3      ซีรี่ย์3  โฉมปี 1995-1998 (E36)   \n",
       "BMW              X1       เอ็กซ์1  โฉมปี 2009-2015 (E84)   \n",
       "BMW        SERIES 3      ซีรี่ย์3  โฉมปี 1995-1998 (E36)   \n",
       "BMW        SERIES 3      ซีรี่ย์3  โฉมปี 1999-2006 (E46)   \n",
       "BMW        SERIES 3      ซีรี่ย์3  โฉมปี 2011-2018 (F30)   \n",
       "BMW        SERIES 5      ซีรี่ย์5  โฉมปี 2010-2017 (F10)   \n",
       "BMW        SERIES 5      ซีรี่ย์5  โฉมปี 2010-2017 (F10)   \n",
       "BMW        SERIES 5      ซีรี่ย์5  โฉมปี 2003-2010 (E60)   \n",
       "BMW        SERIES 3      ซีรี่ย์3  โฉมปี 1995-1998 (E36)   \n",
       "CHEVROLET   CAPTIVA      แคปติว่า        โฉมปี 2006-2011   \n",
       "CHEVROLET   CAPTIVA      แคปติว่า        โฉมปี 2011-2016   \n",
       "CHEVROLET   CAPTIVA      แคปติว่า        โฉมปี 2011-2016   \n",
       "CHEVROLET   CAPTIVA      แคปติว่า        โฉมปี 2011-2016   \n",
       "CHEVROLET   CAPTIVA      แคปติว่า        โฉมปี 2006-2011   \n",
       "CHEVROLET   CAPTIVA      แคปติว่า        โฉมปี 2006-2011   \n",
       "CHEVROLET   CAPTIVA      แคปติว่า        โฉมปี 2006-2011   \n",
       "CHEVROLET   CAPTIVA      แคปติว่า        โฉมปี 2006-2011   \n",
       "CHEVROLET   CAPTIVA      แคปติว่า        โฉมปี 2006-2011   \n",
       "\n",
       "                      item_name fitment_detail  standard_price  \n",
       "car_brand                                                       \n",
       "AUDI       ไส้กรองน้ำมันเครื่อง              -             NaN  \n",
       "BMW                  ผ้าดิสเบรค           หลัง          1500.0  \n",
       "BMW                  จานดิสเบรค           หน้า          1300.0  \n",
       "BMW        ไส้กรองน้ำมันเครื่อง              -             NaN  \n",
       "BMW                  ผ้าดิสเบรค           หน้า          1300.0  \n",
       "BMW                  ผ้าดิสเบรค           หน้า          1600.0  \n",
       "BMW        ไส้กรองน้ำมันเครื่อง              -             NaN  \n",
       "BMW                  ใบปัดน้ำฝน              -             NaN  \n",
       "BMW        ไส้กรองน้ำมันเครื่อง              -             NaN  \n",
       "BMW        ไส้กรองน้ำมันเครื่อง              -             NaN  \n",
       "BMW                  ผ้าดิสเบรค           หลัง          1300.0  \n",
       "CHEVROLET               โช้คอัพ           หลัง          2340.0  \n",
       "CHEVROLET        ลูกหมากกันโคลง           หน้า          1050.0  \n",
       "CHEVROLET        ยางกันฝุ่นแร็ค              -             NaN  \n",
       "CHEVROLET             บู๊ชปีกนก       ล่างใหญ่          1050.0  \n",
       "CHEVROLET        สายอ่อนดิสเบรค              -           550.0  \n",
       "CHEVROLET            ผ้าดิสเบรค           หน้า          2150.0  \n",
       "CHEVROLET            ผ้าดิสเบรค           หลัง          1500.0  \n",
       "CHEVROLET            ยางกันโคลง           หน้า           150.0  \n",
       "CHEVROLET             บู๊ชปีกนก           ล่าง           380.0  "
      ]
     },
     "execution_count": 88,
     "metadata": {},
     "output_type": "execute_result"
    }
   ],
   "source": [
    "df2.sort_index().head(20)"
   ]
  },
  {
   "cell_type": "code",
   "execution_count": 89,
   "metadata": {},
   "outputs": [
    {
     "data": {
      "text/html": [
       "<div>\n",
       "<style scoped>\n",
       "    .dataframe tbody tr th:only-of-type {\n",
       "        vertical-align: middle;\n",
       "    }\n",
       "\n",
       "    .dataframe tbody tr th {\n",
       "        vertical-align: top;\n",
       "    }\n",
       "\n",
       "    .dataframe thead th {\n",
       "        text-align: right;\n",
       "    }\n",
       "</style>\n",
       "<table border=\"1\" class=\"dataframe\">\n",
       "  <thead>\n",
       "    <tr style=\"text-align: right;\">\n",
       "      <th></th>\n",
       "      <th>standard_price</th>\n",
       "    </tr>\n",
       "    <tr>\n",
       "      <th>car_brand</th>\n",
       "      <th></th>\n",
       "    </tr>\n",
       "  </thead>\n",
       "  <tbody>\n",
       "    <tr>\n",
       "      <th>AUDI</th>\n",
       "      <td>NaN</td>\n",
       "    </tr>\n",
       "    <tr>\n",
       "      <th>BMW</th>\n",
       "      <td>NaN</td>\n",
       "    </tr>\n",
       "    <tr>\n",
       "      <th>BMW</th>\n",
       "      <td>NaN</td>\n",
       "    </tr>\n",
       "    <tr>\n",
       "      <th>BMW</th>\n",
       "      <td>NaN</td>\n",
       "    </tr>\n",
       "    <tr>\n",
       "      <th>BMW</th>\n",
       "      <td>NaN</td>\n",
       "    </tr>\n",
       "    <tr>\n",
       "      <th>...</th>\n",
       "      <td>...</td>\n",
       "    </tr>\n",
       "    <tr>\n",
       "      <th>TOYOTA</th>\n",
       "      <td>1250.0</td>\n",
       "    </tr>\n",
       "    <tr>\n",
       "      <th>TOYOTA</th>\n",
       "      <td>1250.0</td>\n",
       "    </tr>\n",
       "    <tr>\n",
       "      <th>TOYOTA</th>\n",
       "      <td>1440.0</td>\n",
       "    </tr>\n",
       "    <tr>\n",
       "      <th>TOYOTA</th>\n",
       "      <td>1580.0</td>\n",
       "    </tr>\n",
       "    <tr>\n",
       "      <th>TOYOTA</th>\n",
       "      <td>1580.0</td>\n",
       "    </tr>\n",
       "  </tbody>\n",
       "</table>\n",
       "<p>4729 rows × 1 columns</p>\n",
       "</div>"
      ],
      "text/plain": [
       "           standard_price\n",
       "car_brand                \n",
       "AUDI                  NaN\n",
       "BMW                   NaN\n",
       "BMW                   NaN\n",
       "BMW                   NaN\n",
       "BMW                   NaN\n",
       "...                   ...\n",
       "TOYOTA             1250.0\n",
       "TOYOTA             1250.0\n",
       "TOYOTA             1440.0\n",
       "TOYOTA             1580.0\n",
       "TOYOTA             1580.0\n",
       "\n",
       "[4729 rows x 1 columns]"
      ]
     },
     "execution_count": 89,
     "metadata": {},
     "output_type": "execute_result"
    }
   ],
   "source": [
    "df3 = pd.read_excel('example/car_details.xlsx',sheet_name = 'Sheet 1', index_col = 0, usecols = \"B,H\",\n",
    "                      skiprows = 1)\n",
    "df3"
   ]
  },
  {
   "cell_type": "code",
   "execution_count": 90,
   "metadata": {},
   "outputs": [
    {
     "data": {
      "text/plain": [
       "standard_price    1198\n",
       "dtype: int64"
      ]
     },
     "execution_count": 90,
     "metadata": {},
     "output_type": "execute_result"
    }
   ],
   "source": [
    "df3.isnull().sum()"
   ]
  },
  {
   "cell_type": "code",
   "execution_count": 91,
   "metadata": {},
   "outputs": [
    {
     "data": {
      "text/html": [
       "<div>\n",
       "<style scoped>\n",
       "    .dataframe tbody tr th:only-of-type {\n",
       "        vertical-align: middle;\n",
       "    }\n",
       "\n",
       "    .dataframe tbody tr th {\n",
       "        vertical-align: top;\n",
       "    }\n",
       "\n",
       "    .dataframe thead th {\n",
       "        text-align: right;\n",
       "    }\n",
       "</style>\n",
       "<table border=\"1\" class=\"dataframe\">\n",
       "  <thead>\n",
       "    <tr style=\"text-align: right;\">\n",
       "      <th></th>\n",
       "      <th>standard_price</th>\n",
       "    </tr>\n",
       "    <tr>\n",
       "      <th>car_brand</th>\n",
       "      <th></th>\n",
       "    </tr>\n",
       "  </thead>\n",
       "  <tbody>\n",
       "    <tr>\n",
       "      <th>BMW</th>\n",
       "      <td>1300.0</td>\n",
       "    </tr>\n",
       "    <tr>\n",
       "      <th>BMW</th>\n",
       "      <td>1300.0</td>\n",
       "    </tr>\n",
       "    <tr>\n",
       "      <th>BMW</th>\n",
       "      <td>1300.0</td>\n",
       "    </tr>\n",
       "    <tr>\n",
       "      <th>BMW</th>\n",
       "      <td>1500.0</td>\n",
       "    </tr>\n",
       "    <tr>\n",
       "      <th>BMW</th>\n",
       "      <td>1600.0</td>\n",
       "    </tr>\n",
       "    <tr>\n",
       "      <th>...</th>\n",
       "      <td>...</td>\n",
       "    </tr>\n",
       "    <tr>\n",
       "      <th>TOYOTA</th>\n",
       "      <td>1250.0</td>\n",
       "    </tr>\n",
       "    <tr>\n",
       "      <th>TOYOTA</th>\n",
       "      <td>1250.0</td>\n",
       "    </tr>\n",
       "    <tr>\n",
       "      <th>TOYOTA</th>\n",
       "      <td>1440.0</td>\n",
       "    </tr>\n",
       "    <tr>\n",
       "      <th>TOYOTA</th>\n",
       "      <td>1580.0</td>\n",
       "    </tr>\n",
       "    <tr>\n",
       "      <th>TOYOTA</th>\n",
       "      <td>1580.0</td>\n",
       "    </tr>\n",
       "  </tbody>\n",
       "</table>\n",
       "<p>3531 rows × 1 columns</p>\n",
       "</div>"
      ],
      "text/plain": [
       "           standard_price\n",
       "car_brand                \n",
       "BMW                1300.0\n",
       "BMW                1300.0\n",
       "BMW                1300.0\n",
       "BMW                1500.0\n",
       "BMW                1600.0\n",
       "...                   ...\n",
       "TOYOTA             1250.0\n",
       "TOYOTA             1250.0\n",
       "TOYOTA             1440.0\n",
       "TOYOTA             1580.0\n",
       "TOYOTA             1580.0\n",
       "\n",
       "[3531 rows x 1 columns]"
      ]
     },
     "execution_count": 91,
     "metadata": {},
     "output_type": "execute_result"
    }
   ],
   "source": [
    "df3 = df3.dropna()\n",
    "df3"
   ]
  },
  {
   "cell_type": "code",
   "execution_count": 92,
   "metadata": {},
   "outputs": [
    {
     "data": {
      "text/html": [
       "<div>\n",
       "<style scoped>\n",
       "    .dataframe tbody tr th:only-of-type {\n",
       "        vertical-align: middle;\n",
       "    }\n",
       "\n",
       "    .dataframe tbody tr th {\n",
       "        vertical-align: top;\n",
       "    }\n",
       "\n",
       "    .dataframe thead th {\n",
       "        text-align: right;\n",
       "    }\n",
       "</style>\n",
       "<table border=\"1\" class=\"dataframe\">\n",
       "  <thead>\n",
       "    <tr style=\"text-align: right;\">\n",
       "      <th></th>\n",
       "      <th>standard_price</th>\n",
       "    </tr>\n",
       "    <tr>\n",
       "      <th>car_brand</th>\n",
       "      <th></th>\n",
       "    </tr>\n",
       "  </thead>\n",
       "  <tbody>\n",
       "    <tr>\n",
       "      <th>BMW</th>\n",
       "      <td>1400.000000</td>\n",
       "    </tr>\n",
       "    <tr>\n",
       "      <th>CHEVROLET</th>\n",
       "      <td>912.181208</td>\n",
       "    </tr>\n",
       "    <tr>\n",
       "      <th>FORD</th>\n",
       "      <td>832.123894</td>\n",
       "    </tr>\n",
       "    <tr>\n",
       "      <th>HONDA</th>\n",
       "      <td>884.956909</td>\n",
       "    </tr>\n",
       "    <tr>\n",
       "      <th>HYUNDAI</th>\n",
       "      <td>661.538462</td>\n",
       "    </tr>\n",
       "    <tr>\n",
       "      <th>ISUZU</th>\n",
       "      <td>663.459459</td>\n",
       "    </tr>\n",
       "    <tr>\n",
       "      <th>LEXUS</th>\n",
       "      <td>783.333333</td>\n",
       "    </tr>\n",
       "    <tr>\n",
       "      <th>MAZDA</th>\n",
       "      <td>896.612022</td>\n",
       "    </tr>\n",
       "    <tr>\n",
       "      <th>MERCEDES-BENZ</th>\n",
       "      <td>1529.166667</td>\n",
       "    </tr>\n",
       "    <tr>\n",
       "      <th>MITSUBISHI</th>\n",
       "      <td>604.593838</td>\n",
       "    </tr>\n",
       "    <tr>\n",
       "      <th>NISSAN</th>\n",
       "      <td>752.131336</td>\n",
       "    </tr>\n",
       "    <tr>\n",
       "      <th>PROTON</th>\n",
       "      <td>1050.000000</td>\n",
       "    </tr>\n",
       "    <tr>\n",
       "      <th>SUBARU</th>\n",
       "      <td>1525.000000</td>\n",
       "    </tr>\n",
       "    <tr>\n",
       "      <th>SUZUKI</th>\n",
       "      <td>744.888889</td>\n",
       "    </tr>\n",
       "    <tr>\n",
       "      <th>TOYOTA</th>\n",
       "      <td>846.996823</td>\n",
       "    </tr>\n",
       "    <tr>\n",
       "      <th>VOLKSWAGEN</th>\n",
       "      <td>1436.666667</td>\n",
       "    </tr>\n",
       "  </tbody>\n",
       "</table>\n",
       "</div>"
      ],
      "text/plain": [
       "               standard_price\n",
       "car_brand                    \n",
       "BMW               1400.000000\n",
       "CHEVROLET          912.181208\n",
       "FORD               832.123894\n",
       "HONDA              884.956909\n",
       "HYUNDAI            661.538462\n",
       "ISUZU              663.459459\n",
       "LEXUS              783.333333\n",
       "MAZDA              896.612022\n",
       "MERCEDES-BENZ     1529.166667\n",
       "MITSUBISHI         604.593838\n",
       "NISSAN             752.131336\n",
       "PROTON            1050.000000\n",
       "SUBARU            1525.000000\n",
       "SUZUKI             744.888889\n",
       "TOYOTA             846.996823\n",
       "VOLKSWAGEN        1436.666667"
      ]
     },
     "metadata": {},
     "output_type": "display_data"
    }
   ],
   "source": [
    "display(df3.groupby('car_brand').agg({\"standard_price\":\"mean\"}))"
   ]
  },
  {
   "cell_type": "markdown",
   "metadata": {
    "id": "hpRcWSLxa9wu"
   },
   "source": [
    "And then calculate the average price of each car brand\n",
    "\n",
    "![image.png](data:image/png;base64,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)"
   ]
  }
 ],
 "metadata": {
  "colab": {
   "collapsed_sections": [],
   "name": " Introto pandas, data cleansing",
   "provenance": [],
   "toc_visible": true
  },
  "kernelspec": {
   "display_name": "Python 3",
   "language": "python",
   "name": "python3"
  },
  "language_info": {
   "codemirror_mode": {
    "name": "ipython",
    "version": 3
   },
   "file_extension": ".py",
   "mimetype": "text/x-python",
   "name": "python",
   "nbconvert_exporter": "python",
   "pygments_lexer": "ipython3",
   "version": "3.8.5"
  }
 },
 "nbformat": 4,
 "nbformat_minor": 1
}
