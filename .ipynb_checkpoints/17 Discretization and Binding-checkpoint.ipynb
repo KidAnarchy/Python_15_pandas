{
 "cells": [
  {
   "cell_type": "code",
   "execution_count": 1,
   "metadata": {
    "id": "0bHTFKpH004n"
   },
   "outputs": [],
   "source": [
    "import pandas as pd\n",
    "import numpy as np"
   ]
  },
  {
   "cell_type": "markdown",
   "metadata": {
    "id": "YLu3HU22QgwP"
   },
   "source": [
    "## Discretization and Binding\n",
    "---\n",
    "\n",
    "Extract data and put it in the bins for analysis\n"
   ]
  },
  {
   "cell_type": "code",
   "execution_count": 55,
   "metadata": {
    "id": "0zPSBKGCQtmD"
   },
   "outputs": [],
   "source": [
    "ages = [20, 22, 25, 27, 21, 23, 37, 31, 61, 45, 41, 32]"
   ]
  },
  {
   "cell_type": "markdown",
   "metadata": {
    "id": "JWACEIpnQxRn"
   },
   "source": [
    "Then we create a bin"
   ]
  },
  {
   "cell_type": "code",
   "execution_count": 56,
   "metadata": {
    "id": "9E4hHyuNQ_TB"
   },
   "outputs": [],
   "source": [
    "bins = [18, 25, 35, 60, 100]"
   ]
  },
  {
   "cell_type": "markdown",
   "metadata": {
    "id": "L25loyixRBA2"
   },
   "source": [
    "Then we cut the data in to a bin, the cuts represent the bins for each data"
   ]
  },
  {
   "cell_type": "code",
   "execution_count": 57,
   "metadata": {
    "id": "he6drI0bREWC"
   },
   "outputs": [
    {
     "data": {
      "text/plain": [
       "[(18, 25], (18, 25], (18, 25], (25, 35], (18, 25], ..., (25, 35], (60, 100], (35, 60], (35, 60], (25, 35]]\n",
       "Length: 12\n",
       "Categories (4, interval[int64]): [(18, 25] < (25, 35] < (35, 60] < (60, 100]]"
      ]
     },
     "execution_count": 57,
     "metadata": {},
     "output_type": "execute_result"
    }
   ],
   "source": [
    "cuts = pd.cut(ages,bins)\n",
    "cuts"
   ]
  },
  {
   "cell_type": "markdown",
   "metadata": {
    "id": "PkSZPLHARXA9"
   },
   "source": [
    "Instead of using the texts we can see the code (index) of each bins"
   ]
  },
  {
   "cell_type": "code",
   "execution_count": 58,
   "metadata": {
    "id": "zu1ZNRQERbHg"
   },
   "outputs": [
    {
     "data": {
      "text/plain": [
       "array([0, 0, 0, 1, 0, 0, 2, 1, 3, 2, 2, 1], dtype=int8)"
      ]
     },
     "execution_count": 58,
     "metadata": {},
     "output_type": "execute_result"
    }
   ],
   "source": [
    "cuts.codes"
   ]
  },
  {
   "cell_type": "markdown",
   "metadata": {
    "id": "-SyIx8RrRhyI"
   },
   "source": [
    "and the catagories, and the amount of value in each cuts can be shown"
   ]
  },
  {
   "cell_type": "code",
   "execution_count": 59,
   "metadata": {
    "id": "q92uCdiyRtMa"
   },
   "outputs": [
    {
     "data": {
      "text/plain": [
       "IntervalIndex([(18, 25], (25, 35], (35, 60], (60, 100]],\n",
       "              closed='right',\n",
       "              dtype='interval[int64]')"
      ]
     },
     "execution_count": 59,
     "metadata": {},
     "output_type": "execute_result"
    }
   ],
   "source": [
    "cuts.categories"
   ]
  },
  {
   "cell_type": "code",
   "execution_count": 60,
   "metadata": {
    "id": "A-FIuO6mRwyQ"
   },
   "outputs": [
    {
     "data": {
      "text/plain": [
       "(18, 25]     5\n",
       "(35, 60]     3\n",
       "(25, 35]     3\n",
       "(60, 100]    1\n",
       "dtype: int64"
      ]
     },
     "execution_count": 60,
     "metadata": {},
     "output_type": "execute_result"
    }
   ],
   "source": [
    "pd.value_counts(cuts)"
   ]
  },
  {
   "cell_type": "markdown",
   "metadata": {
    "id": "nlotwTUOR9Nj"
   },
   "source": [
    "We can set the name of each cuts by passing the arrays of labels"
   ]
  },
  {
   "cell_type": "code",
   "execution_count": 61,
   "metadata": {
    "id": "MyG8Kk0CSC-K"
   },
   "outputs": [
    {
     "data": {
      "text/plain": [
       "['Youth', 'Youth', 'Youth', 'YoungAdult', 'Youth', ..., 'YoungAdult', 'Senior', 'MiddleAged', 'MiddleAged', 'YoungAdult']\n",
       "Length: 12\n",
       "Categories (4, object): ['Youth' < 'YoungAdult' < 'MiddleAged' < 'Senior']"
      ]
     },
     "execution_count": 61,
     "metadata": {},
     "output_type": "execute_result"
    }
   ],
   "source": [
    "group_names = ['Youth', 'YoungAdult','MiddleAged','Senior']\n",
    "pd.cut(ages,bins,labels=group_names)"
   ]
  },
  {
   "cell_type": "markdown",
   "metadata": {
    "id": "0nY8GiaVSUc-"
   },
   "source": [
    "If we pass the integer number instead of the bin edge, it will compute the equal-length bins based on the minimum and maximum values."
   ]
  },
  {
   "cell_type": "code",
   "execution_count": 62,
   "metadata": {
    "id": "IjqntK6ISj1B"
   },
   "outputs": [
    {
     "data": {
      "text/plain": [
       "[(0.71, 0.95], (0.24, 0.48], (0.0099, 0.24], (0.0099, 0.24], (0.0099, 0.24], ..., (0.48, 0.71], (0.48, 0.71], (0.24, 0.48], (0.0099, 0.24], (0.0099, 0.24]]\n",
       "Length: 20\n",
       "Categories (4, interval[float64]): [(0.0099, 0.24] < (0.24, 0.48] < (0.48, 0.71] < (0.71, 0.95]]"
      ]
     },
     "execution_count": 62,
     "metadata": {},
     "output_type": "execute_result"
    }
   ],
   "source": [
    "data = np.random.rand(20)\n",
    "\n",
    "pd.cut(data,4,precision=2)"
   ]
  }
 ],
 "metadata": {
  "colab": {
   "collapsed_sections": [],
   "name": " Introto pandas, data cleansing",
   "provenance": [],
   "toc_visible": true
  },
  "kernelspec": {
   "display_name": "Python 3",
   "language": "python",
   "name": "python3"
  },
  "language_info": {
   "codemirror_mode": {
    "name": "ipython",
    "version": 3
   },
   "file_extension": ".py",
   "mimetype": "text/x-python",
   "name": "python",
   "nbconvert_exporter": "python",
   "pygments_lexer": "ipython3",
   "version": "3.8.5"
  }
 },
 "nbformat": 4,
 "nbformat_minor": 1
}
