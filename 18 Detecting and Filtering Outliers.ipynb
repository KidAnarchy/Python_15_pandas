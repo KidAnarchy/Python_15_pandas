{
 "cells": [
  {
   "cell_type": "code",
   "execution_count": 1,
   "metadata": {
    "id": "0bHTFKpH004n"
   },
   "outputs": [],
   "source": [
    "import pandas as pd\n",
    "import numpy as np"
   ]
  },
  {
   "cell_type": "markdown",
   "metadata": {
    "id": "qfX3cZB7QEK8"
   },
   "source": [
    "## Detecting and Filtering Outliers\n",
    "---\n",
    "\n",
    "\n",
    "finding the outlining data and filter it out as it may be the error while gathering the data.\n",
    "Let's start by having the given data"
   ]
  },
  {
   "cell_type": "code",
   "execution_count": 2,
   "metadata": {
    "id": "c2s445CMQV-8"
   },
   "outputs": [
    {
     "data": {
      "text/html": [
       "<div>\n",
       "<style scoped>\n",
       "    .dataframe tbody tr th:only-of-type {\n",
       "        vertical-align: middle;\n",
       "    }\n",
       "\n",
       "    .dataframe tbody tr th {\n",
       "        vertical-align: top;\n",
       "    }\n",
       "\n",
       "    .dataframe thead th {\n",
       "        text-align: right;\n",
       "    }\n",
       "</style>\n",
       "<table border=\"1\" class=\"dataframe\">\n",
       "  <thead>\n",
       "    <tr style=\"text-align: right;\">\n",
       "      <th></th>\n",
       "      <th>0</th>\n",
       "      <th>1</th>\n",
       "      <th>2</th>\n",
       "      <th>3</th>\n",
       "    </tr>\n",
       "  </thead>\n",
       "  <tbody>\n",
       "    <tr>\n",
       "      <th>count</th>\n",
       "      <td>1000.000000</td>\n",
       "      <td>1000.000000</td>\n",
       "      <td>1000.000000</td>\n",
       "      <td>1000.000000</td>\n",
       "    </tr>\n",
       "    <tr>\n",
       "      <th>mean</th>\n",
       "      <td>0.029719</td>\n",
       "      <td>-0.003672</td>\n",
       "      <td>0.037796</td>\n",
       "      <td>0.001715</td>\n",
       "    </tr>\n",
       "    <tr>\n",
       "      <th>std</th>\n",
       "      <td>0.979509</td>\n",
       "      <td>1.033843</td>\n",
       "      <td>0.994650</td>\n",
       "      <td>0.984670</td>\n",
       "    </tr>\n",
       "    <tr>\n",
       "      <th>min</th>\n",
       "      <td>-3.148831</td>\n",
       "      <td>-3.910047</td>\n",
       "      <td>-3.503266</td>\n",
       "      <td>-3.293142</td>\n",
       "    </tr>\n",
       "    <tr>\n",
       "      <th>25%</th>\n",
       "      <td>-0.635124</td>\n",
       "      <td>-0.703678</td>\n",
       "      <td>-0.647879</td>\n",
       "      <td>-0.677066</td>\n",
       "    </tr>\n",
       "    <tr>\n",
       "      <th>50%</th>\n",
       "      <td>0.032784</td>\n",
       "      <td>0.032095</td>\n",
       "      <td>0.005357</td>\n",
       "      <td>0.029266</td>\n",
       "    </tr>\n",
       "    <tr>\n",
       "      <th>75%</th>\n",
       "      <td>0.723792</td>\n",
       "      <td>0.685478</td>\n",
       "      <td>0.711553</td>\n",
       "      <td>0.658357</td>\n",
       "    </tr>\n",
       "    <tr>\n",
       "      <th>max</th>\n",
       "      <td>3.006426</td>\n",
       "      <td>4.151387</td>\n",
       "      <td>3.428027</td>\n",
       "      <td>3.085237</td>\n",
       "    </tr>\n",
       "  </tbody>\n",
       "</table>\n",
       "</div>"
      ],
      "text/plain": [
       "                 0            1            2            3\n",
       "count  1000.000000  1000.000000  1000.000000  1000.000000\n",
       "mean      0.029719    -0.003672     0.037796     0.001715\n",
       "std       0.979509     1.033843     0.994650     0.984670\n",
       "min      -3.148831    -3.910047    -3.503266    -3.293142\n",
       "25%      -0.635124    -0.703678    -0.647879    -0.677066\n",
       "50%       0.032784     0.032095     0.005357     0.029266\n",
       "75%       0.723792     0.685478     0.711553     0.658357\n",
       "max       3.006426     4.151387     3.428027     3.085237"
      ]
     },
     "execution_count": 2,
     "metadata": {},
     "output_type": "execute_result"
    }
   ],
   "source": [
    "data = pd.DataFrame(np.random.randn(1000,4))\n",
    "data.describe()"
   ]
  },
  {
   "cell_type": "markdown",
   "metadata": {
    "id": "ZT_qGII3S7gF"
   },
   "source": [
    "if we want to find the values in column 2 which the absolute value is exceed 3"
   ]
  },
  {
   "cell_type": "code",
   "execution_count": 3,
   "metadata": {
    "id": "LFEaDdvwTFN6"
   },
   "outputs": [
    {
     "data": {
      "text/plain": [
       "732    3.428027\n",
       "793   -3.503266\n",
       "934    3.023463\n",
       "Name: 2, dtype: float64"
      ]
     },
     "execution_count": 3,
     "metadata": {},
     "output_type": "execute_result"
    }
   ],
   "source": [
    "col = data[2]\n",
    "col[np.abs(col) >3]"
   ]
  },
  {
   "cell_type": "markdown",
   "metadata": {
    "id": "jlJRo28sTQ7v"
   },
   "source": [
    "If we want to get rows which value is exceeding  3, we can use `any` methods"
   ]
  },
  {
   "cell_type": "code",
   "execution_count": 4,
   "metadata": {
    "id": "_B1jxxEgTcBs"
   },
   "outputs": [],
   "source": [
    "a = data[(np.abs(data)>3).any(1)]"
   ]
  },
  {
   "cell_type": "code",
   "execution_count": 5,
   "metadata": {},
   "outputs": [
    {
     "data": {
      "text/html": [
       "<div>\n",
       "<style scoped>\n",
       "    .dataframe tbody tr th:only-of-type {\n",
       "        vertical-align: middle;\n",
       "    }\n",
       "\n",
       "    .dataframe tbody tr th {\n",
       "        vertical-align: top;\n",
       "    }\n",
       "\n",
       "    .dataframe thead th {\n",
       "        text-align: right;\n",
       "    }\n",
       "</style>\n",
       "<table border=\"1\" class=\"dataframe\">\n",
       "  <thead>\n",
       "    <tr style=\"text-align: right;\">\n",
       "      <th></th>\n",
       "      <th>0</th>\n",
       "      <th>1</th>\n",
       "      <th>2</th>\n",
       "      <th>3</th>\n",
       "    </tr>\n",
       "  </thead>\n",
       "  <tbody>\n",
       "    <tr>\n",
       "      <th>147</th>\n",
       "      <td>-1.100511</td>\n",
       "      <td>0.212217</td>\n",
       "      <td>0.748706</td>\n",
       "      <td>3.085237</td>\n",
       "    </tr>\n",
       "    <tr>\n",
       "      <th>368</th>\n",
       "      <td>0.425870</td>\n",
       "      <td>0.028234</td>\n",
       "      <td>-0.792555</td>\n",
       "      <td>-3.293142</td>\n",
       "    </tr>\n",
       "    <tr>\n",
       "      <th>485</th>\n",
       "      <td>0.649552</td>\n",
       "      <td>-3.910047</td>\n",
       "      <td>0.830895</td>\n",
       "      <td>-1.290498</td>\n",
       "    </tr>\n",
       "    <tr>\n",
       "      <th>567</th>\n",
       "      <td>3.006426</td>\n",
       "      <td>-0.983948</td>\n",
       "      <td>1.156053</td>\n",
       "      <td>-0.705293</td>\n",
       "    </tr>\n",
       "    <tr>\n",
       "      <th>592</th>\n",
       "      <td>1.150800</td>\n",
       "      <td>4.151387</td>\n",
       "      <td>0.268562</td>\n",
       "      <td>-1.838834</td>\n",
       "    </tr>\n",
       "    <tr>\n",
       "      <th>732</th>\n",
       "      <td>-0.831009</td>\n",
       "      <td>0.378829</td>\n",
       "      <td>3.428027</td>\n",
       "      <td>1.470610</td>\n",
       "    </tr>\n",
       "    <tr>\n",
       "      <th>741</th>\n",
       "      <td>-3.001157</td>\n",
       "      <td>0.183988</td>\n",
       "      <td>0.916961</td>\n",
       "      <td>0.721015</td>\n",
       "    </tr>\n",
       "    <tr>\n",
       "      <th>746</th>\n",
       "      <td>0.943772</td>\n",
       "      <td>3.935763</td>\n",
       "      <td>0.103902</td>\n",
       "      <td>-0.838391</td>\n",
       "    </tr>\n",
       "    <tr>\n",
       "      <th>793</th>\n",
       "      <td>-0.316268</td>\n",
       "      <td>1.480609</td>\n",
       "      <td>-3.503266</td>\n",
       "      <td>-0.062841</td>\n",
       "    </tr>\n",
       "    <tr>\n",
       "      <th>808</th>\n",
       "      <td>-3.148831</td>\n",
       "      <td>-0.475581</td>\n",
       "      <td>-0.401002</td>\n",
       "      <td>-0.388461</td>\n",
       "    </tr>\n",
       "    <tr>\n",
       "      <th>934</th>\n",
       "      <td>-0.317898</td>\n",
       "      <td>0.900583</td>\n",
       "      <td>3.023463</td>\n",
       "      <td>1.142995</td>\n",
       "    </tr>\n",
       "  </tbody>\n",
       "</table>\n",
       "</div>"
      ],
      "text/plain": [
       "            0         1         2         3\n",
       "147 -1.100511  0.212217  0.748706  3.085237\n",
       "368  0.425870  0.028234 -0.792555 -3.293142\n",
       "485  0.649552 -3.910047  0.830895 -1.290498\n",
       "567  3.006426 -0.983948  1.156053 -0.705293\n",
       "592  1.150800  4.151387  0.268562 -1.838834\n",
       "732 -0.831009  0.378829  3.428027  1.470610\n",
       "741 -3.001157  0.183988  0.916961  0.721015\n",
       "746  0.943772  3.935763  0.103902 -0.838391\n",
       "793 -0.316268  1.480609 -3.503266 -0.062841\n",
       "808 -3.148831 -0.475581 -0.401002 -0.388461\n",
       "934 -0.317898  0.900583  3.023463  1.142995"
      ]
     },
     "execution_count": 5,
     "metadata": {},
     "output_type": "execute_result"
    }
   ],
   "source": [
    "a"
   ]
  }
 ],
 "metadata": {
  "colab": {
   "collapsed_sections": [],
   "name": " Introto pandas, data cleansing",
   "provenance": [],
   "toc_visible": true
  },
  "kernelspec": {
   "display_name": "Python 3",
   "language": "python",
   "name": "python3"
  },
  "language_info": {
   "codemirror_mode": {
    "name": "ipython",
    "version": 3
   },
   "file_extension": ".py",
   "mimetype": "text/x-python",
   "name": "python",
   "nbconvert_exporter": "python",
   "pygments_lexer": "ipython3",
   "version": "3.8.5"
  }
 },
 "nbformat": 4,
 "nbformat_minor": 1
}
